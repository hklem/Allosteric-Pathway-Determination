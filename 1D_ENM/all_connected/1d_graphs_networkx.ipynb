{
 "cells": [
  {
   "cell_type": "code",
   "execution_count": 1,
   "metadata": {},
   "outputs": [],
   "source": [
    "import numpy as np\n",
    "import matplotlib.pyplot as plt\n",
    "import networkx as nx\n",
    "%matplotlib inline"
   ]
  },
  {
   "cell_type": "code",
   "execution_count": 2,
   "metadata": {},
   "outputs": [],
   "source": [
    "def create_NN_graph(nNodes,kij):\n",
    "    \n",
    "    G = nx.Graph()\n",
    "    \n",
    "    elist = []\n",
    "    for i in range(nNodes-1):\n",
    "        edge_tuple = (i,i+1,kij)\n",
    "        elist.append(edge_tuple)\n",
    "    G.add_weighted_edges_from(elist)\n",
    "    return G\n",
    "\n",
    "def create_bottleneck_k_matrix(nNodes,kij):\n",
    "    \n",
    "    k = np.zeros((nNodes,nNodes),dtype=float)\n",
    "\n",
    "    for i in range(nNodes-1):\n",
    "        for j in range(i+1,nNodes):\n",
    "            # nearest neighbors are bonded\n",
    "            if (abs(i-j)<2):\n",
    "                k[i,j] = kij\n",
    "            elif i < nNodes//2 and j < nNodes//2:\n",
    "                k[i,j] = kij\n",
    "            elif i > nNodes//2 and j > nNodes//2:\n",
    "                k[i,j] = kij\n",
    "            # symmetrize\n",
    "            k[j,i] = k[i,j]\n",
    "    return k\n",
    "\n",
    "def k_to_hessian(k):\n",
    "    hessian = -k\n",
    "    for i in range(hessian.shape[0]):\n",
    "        hessian[i,i] = -np.sum(hessian[i,:])\n",
    "    return hessian\n",
    "\n",
    "def compute_correlation_from_hessian(hess):\n",
    "    M = hess.shape[0]\n",
    "    hess_evals, hess_evecs = np.linalg.eigh(hess)\n",
    "    # this translates to the following matrix equations\n",
    "    gamma = np.diag(1.0/hess_evals)\n",
    "    gamma[0,0] = 0.\n",
    "    covar_from_hessian = np.dot(hess_evecs,np.dot(gamma,hess_evecs.T))*0.8\n",
    "    analytic_corr = covar_to_correlation(covar_from_hessian)\n",
    "    return analytic_corr, covar_from_hessian\n",
    "\n",
    "def covar_to_correlation(covar):\n",
    "    M = covar.shape[0]\n",
    "    corr = np.empty((M,M),dtype=float)\n",
    "    for i in range(M):\n",
    "        for j in range(M):\n",
    "             corr[i,j] = covar[i,j]/(np.sqrt(covar[i,i]*covar[j,j]))\n",
    "    return corr"
   ]
  },
  {
   "cell_type": "code",
   "execution_count": 3,
   "metadata": {},
   "outputs": [],
   "source": [
    "def centrality(A,n):\n",
    "    e, v = np.linalg.eigh(A)\n",
    "    centrality = np.zeros(A.shape[0])\n",
    "    for i in range(1,n+1):\n",
    "        centrality += 1.0/e[-i]*np.dot(A,v[:,-i])\n",
    "    cmax = np.amax(-centrality)\n",
    "    cmin = np.amin(-centrality)\n",
    "    return 2 * (-centrality-cmin)/(cmax-cmin) - 1\n",
    "    #return -centrality"
   ]
  },
  {
   "cell_type": "code",
   "execution_count": 4,
   "metadata": {},
   "outputs": [],
   "source": [
    "nearestNeighborGraph = create_NN_graph(9,100.0)"
   ]
  },
  {
   "cell_type": "code",
   "execution_count": 5,
   "metadata": {},
   "outputs": [
    {
     "data": {
      "text/plain": [
       "[0, 1, 2, 3, 4, 5, 6, 7, 8]"
      ]
     },
     "execution_count": 5,
     "metadata": {},
     "output_type": "execute_result"
    }
   ],
   "source": [
    "nx.shortest_path(nearestNeighborGraph,source=0,target=8)"
   ]
  },
  {
   "cell_type": "code",
   "execution_count": 6,
   "metadata": {},
   "outputs": [
    {
     "data": {
      "text/plain": [
       "matrix([[  0., 100.,   0.,   0.,   0.,   0.,   0.,   0.,   0.],\n",
       "        [100.,   0., 100.,   0.,   0.,   0.,   0.,   0.,   0.],\n",
       "        [  0., 100.,   0., 100.,   0.,   0.,   0.,   0.,   0.],\n",
       "        [  0.,   0., 100.,   0., 100.,   0.,   0.,   0.,   0.],\n",
       "        [  0.,   0.,   0., 100.,   0., 100.,   0.,   0.,   0.],\n",
       "        [  0.,   0.,   0.,   0., 100.,   0., 100.,   0.,   0.],\n",
       "        [  0.,   0.,   0.,   0.,   0., 100.,   0., 100.,   0.],\n",
       "        [  0.,   0.,   0.,   0.,   0.,   0., 100.,   0., 100.],\n",
       "        [  0.,   0.,   0.,   0.,   0.,   0.,   0., 100.,   0.]])"
      ]
     },
     "execution_count": 6,
     "metadata": {},
     "output_type": "execute_result"
    }
   ],
   "source": [
    "nx.to_numpy_matrix(nearestNeighborGraph)"
   ]
  },
  {
   "cell_type": "code",
   "execution_count": 7,
   "metadata": {},
   "outputs": [
    {
     "name": "stdout",
     "output_type": "stream",
     "text": [
      "[[  0. 100. 100. 100.   0.   0.   0.   0.   0.]\n",
      " [100.   0. 100. 100.   0.   0.   0.   0.   0.]\n",
      " [100. 100.   0. 100.   0.   0.   0.   0.   0.]\n",
      " [100. 100. 100.   0. 100.   0.   0.   0.   0.]\n",
      " [  0.   0.   0. 100.   0. 100.   0.   0.   0.]\n",
      " [  0.   0.   0.   0. 100.   0. 100. 100. 100.]\n",
      " [  0.   0.   0.   0.   0. 100.   0. 100. 100.]\n",
      " [  0.   0.   0.   0.   0. 100. 100.   0. 100.]\n",
      " [  0.   0.   0.   0.   0. 100. 100. 100.   0.]]\n"
     ]
    }
   ],
   "source": [
    "k = create_bottleneck_k_matrix(9,100)\n",
    "print(k)"
   ]
  },
  {
   "cell_type": "code",
   "execution_count": 8,
   "metadata": {},
   "outputs": [
    {
     "data": {
      "text/plain": [
       "array([[ 1.        ,  0.70863309,  0.70863309,  0.66487846, -0.13621152,\n",
       "        -0.75236247, -0.74820144, -0.74820144, -0.74820144],\n",
       "       [ 0.70863309,  1.        ,  0.70863309,  0.66487846, -0.13621152,\n",
       "        -0.75236247, -0.74820144, -0.74820144, -0.74820144],\n",
       "       [ 0.70863309,  0.70863309,  1.        ,  0.66487846, -0.13621152,\n",
       "        -0.75236247, -0.74820144, -0.74820144, -0.74820144],\n",
       "       [ 0.66487846,  0.66487846,  0.66487846,  1.        ,  0.04732485,\n",
       "        -0.72340426, -0.75236247, -0.75236247, -0.75236247],\n",
       "       [-0.13621152, -0.13621152, -0.13621152,  0.04732485,  1.        ,\n",
       "         0.04732485, -0.13621152, -0.13621152, -0.13621152],\n",
       "       [-0.75236247, -0.75236247, -0.75236247, -0.72340426,  0.04732485,\n",
       "         1.        ,  0.66487846,  0.66487846,  0.66487846],\n",
       "       [-0.74820144, -0.74820144, -0.74820144, -0.75236247, -0.13621152,\n",
       "         0.66487846,  1.        ,  0.70863309,  0.70863309],\n",
       "       [-0.74820144, -0.74820144, -0.74820144, -0.75236247, -0.13621152,\n",
       "         0.66487846,  0.70863309,  1.        ,  0.70863309],\n",
       "       [-0.74820144, -0.74820144, -0.74820144, -0.75236247, -0.13621152,\n",
       "         0.66487846,  0.70863309,  0.70863309,  1.        ]])"
      ]
     },
     "execution_count": 8,
     "metadata": {},
     "output_type": "execute_result"
    }
   ],
   "source": [
    "bottleneckHessian = k_to_hessian(k)\n",
    "bottleneckCorr, bottleneckCovar = compute_correlation_from_hessian(bottleneckHessian)\n",
    "bottleneckCorr"
   ]
  },
  {
   "cell_type": "code",
   "execution_count": 9,
   "metadata": {},
   "outputs": [
    {
     "data": {
      "text/plain": [
       "array([[0.        , 0.33333333, 0.33333333, 0.28867513, 0.        ,\n",
       "        0.        , 0.        , 0.        , 0.        ],\n",
       "       [0.33333333, 0.        , 0.33333333, 0.28867513, 0.        ,\n",
       "        0.        , 0.        , 0.        , 0.        ],\n",
       "       [0.33333333, 0.33333333, 0.        , 0.28867513, 0.        ,\n",
       "        0.        , 0.        , 0.        , 0.        ],\n",
       "       [0.28867513, 0.28867513, 0.28867513, 0.        , 0.35355339,\n",
       "        0.        , 0.        , 0.        , 0.        ],\n",
       "       [0.        , 0.        , 0.        , 0.35355339, 0.        ,\n",
       "        0.35355339, 0.        , 0.        , 0.        ],\n",
       "       [0.        , 0.        , 0.        , 0.        , 0.35355339,\n",
       "        0.        , 0.28867513, 0.28867513, 0.28867513],\n",
       "       [0.        , 0.        , 0.        , 0.        , 0.        ,\n",
       "        0.28867513, 0.        , 0.33333333, 0.33333333],\n",
       "       [0.        , 0.        , 0.        , 0.        , 0.        ,\n",
       "        0.28867513, 0.33333333, 0.        , 0.33333333],\n",
       "       [0.        , 0.        , 0.        , 0.        , 0.        ,\n",
       "        0.28867513, 0.33333333, 0.33333333, 0.        ]])"
      ]
     },
     "execution_count": 9,
     "metadata": {},
     "output_type": "execute_result"
    }
   ],
   "source": [
    "Ak = np.copy(k)\n",
    "for i in range(Ak.shape[0]):\n",
    "    for j in range(Ak.shape[1]):\n",
    "        Ak[i,j] /= np.sqrt(np.sum(k[:,i])*np.sum(k[:,j]))\n",
    "Ak"
   ]
  },
  {
   "cell_type": "code",
   "execution_count": 10,
   "metadata": {},
   "outputs": [
    {
     "name": "stderr",
     "output_type": "stream",
     "text": [
      "/anaconda3/lib/python3.6/site-packages/ipykernel_launcher.py:1: RuntimeWarning: divide by zero encountered in true_divide\n",
      "  \"\"\"Entry point for launching an IPython kernel.\n"
     ]
    },
    {
     "data": {
      "text/plain": [
       "[0, 3, 4, 5, 8]"
      ]
     },
     "execution_count": 10,
     "metadata": {},
     "output_type": "execute_result"
    }
   ],
   "source": [
    "cost_from_k = 1.0/k\n",
    "for i in range(k.shape[0]): cost_from_k[i,i] = 0.0\n",
    "\n",
    "#for i in range(9-2):\n",
    "#    for j in range(i+2,9):\n",
    "#        if k[i,j] > 0:\n",
    "#            scaled_bottleneck[i,j] *= 1.0/k[i,j]\n",
    "#            scaled_bottleneck[j,i] = scaled_bottleneck[i,j]\n",
    "G_from_k_bottleneck = nx.from_numpy_matrix(cost_from_k)\n",
    "nx.shortest_path(G_from_k_bottleneck,source=0,target=8,weight='weight')"
   ]
  },
  {
   "cell_type": "code",
   "execution_count": 11,
   "metadata": {},
   "outputs": [
    {
     "ename": "NameError",
     "evalue": "name 'scaled_bottleneck' is not defined",
     "output_type": "error",
     "traceback": [
      "\u001b[0;31m---------------------------------------------------------------------------\u001b[0m",
      "\u001b[0;31mNameError\u001b[0m                                 Traceback (most recent call last)",
      "\u001b[0;32m<ipython-input-11-3ee340de9eff>\u001b[0m in \u001b[0;36m<module>\u001b[0;34m()\u001b[0m\n\u001b[0;32m----> 1\u001b[0;31m \u001b[0mscaled_bottleneck\u001b[0m\u001b[0;34m\u001b[0m\u001b[0m\n\u001b[0m",
      "\u001b[0;31mNameError\u001b[0m: name 'scaled_bottleneck' is not defined"
     ]
    }
   ],
   "source": [
    "scaled_bottleneck"
   ]
  },
  {
   "cell_type": "code",
   "execution_count": 12,
   "metadata": {},
   "outputs": [],
   "source": [
    "bottleneck_k_betweenness = nx.betweenness_centrality(G_from_k_bottleneck,weight='weight')"
   ]
  },
  {
   "cell_type": "code",
   "execution_count": 13,
   "metadata": {},
   "outputs": [],
   "source": [
    "centralityK = centrality(Ak,1)"
   ]
  },
  {
   "cell_type": "code",
   "execution_count": 14,
   "metadata": {},
   "outputs": [
    {
     "ename": "NameError",
     "evalue": "name 'centralityCorr' is not defined",
     "output_type": "error",
     "traceback": [
      "\u001b[0;31m---------------------------------------------------------------------------\u001b[0m",
      "\u001b[0;31mNameError\u001b[0m                                 Traceback (most recent call last)",
      "\u001b[0;32m<ipython-input-14-83cac0733471>\u001b[0m in \u001b[0;36m<module>\u001b[0;34m()\u001b[0m\n\u001b[0;32m----> 1\u001b[0;31m \u001b[0mprint\u001b[0m\u001b[0;34m(\u001b[0m\u001b[0mcentralityCorr\u001b[0m\u001b[0;34m)\u001b[0m\u001b[0;34m\u001b[0m\u001b[0m\n\u001b[0m",
      "\u001b[0;31mNameError\u001b[0m: name 'centralityCorr' is not defined"
     ]
    }
   ],
   "source": [
    "print(centralityCorr)"
   ]
  },
  {
   "cell_type": "code",
   "execution_count": 15,
   "metadata": {},
   "outputs": [
    {
     "data": {
      "text/plain": [
       "array([[ 0.,  2.,  4.,  6.,  8., 10., 12., 14., 16.],\n",
       "       [ 2.,  0.,  2.,  4.,  6.,  8., 10., 12., 14.],\n",
       "       [ 4.,  2.,  0.,  2.,  4.,  6.,  8., 10., 12.],\n",
       "       [ 6.,  4.,  2.,  0.,  2.,  4.,  6.,  8., 10.],\n",
       "       [ 8.,  6.,  4.,  2.,  0.,  2.,  4.,  6.,  8.],\n",
       "       [10.,  8.,  6.,  4.,  2.,  0.,  2.,  4.,  6.],\n",
       "       [12., 10.,  8.,  6.,  4.,  2.,  0.,  2.,  4.],\n",
       "       [14., 12., 10.,  8.,  6.,  4.,  2.,  0.,  2.],\n",
       "       [16., 14., 12., 10.,  8.,  6.,  4.,  2.,  0.]])"
      ]
     },
     "execution_count": 15,
     "metadata": {},
     "output_type": "execute_result"
    }
   ],
   "source": [
    "pairDist = np.empty(k.shape,dtype=np.float64)\n",
    "for i in range(k.shape[0]):\n",
    "    for j in range(k.shape[1]):\n",
    "        pairDist[i,j] = abs(i-j)*2.0\n",
    "pairDist"
   ]
  },
  {
   "cell_type": "code",
   "execution_count": 16,
   "metadata": {},
   "outputs": [],
   "source": [
    "ACorr = abs(bottleneckCorr-np.identity(bottleneckCorr.shape[0]))\n",
    "ACorr_l1 = np.copy(ACorr)\n",
    "lamb = 1.0\n",
    "for i in range(ACorr.shape[0]):\n",
    "    for j in range(ACorr.shape[1]):\n",
    "        ACorr_l1[i,j] *= np.exp(-pairDist[i,j]/lamb)\n",
    "centralityCorr = centrality(ACorr,1)\n",
    "centralityCorr_l1 = centrality(ACorr_l1,1)"
   ]
  },
  {
   "cell_type": "code",
   "execution_count": 17,
   "metadata": {},
   "outputs": [
    {
     "name": "stderr",
     "output_type": "stream",
     "text": [
      "/anaconda3/lib/python3.6/site-packages/ipykernel_launcher.py:1: RuntimeWarning: divide by zero encountered in true_divide\n",
      "  \"\"\"Entry point for launching an IPython kernel.\n"
     ]
    }
   ],
   "source": [
    "ACorr_l1 = 1.0/ACorr_l1\n",
    "for i in range(ACorr_l1.shape[0]): ACorr_l1[i,i] = 0.0"
   ]
  },
  {
   "cell_type": "code",
   "execution_count": 18,
   "metadata": {},
   "outputs": [
    {
     "name": "stderr",
     "output_type": "stream",
     "text": [
      "/anaconda3/lib/python3.6/site-packages/ipykernel_launcher.py:1: RuntimeWarning: divide by zero encountered in true_divide\n",
      "  \"\"\"Entry point for launching an IPython kernel.\n"
     ]
    }
   ],
   "source": [
    "ACorr = 1.0/ACorr\n",
    "for i in range(ACorr.shape[0]): ACorr[i,i] = 0.0"
   ]
  },
  {
   "cell_type": "code",
   "execution_count": 19,
   "metadata": {},
   "outputs": [
    {
     "name": "stdout",
     "output_type": "stream",
     "text": [
      "[0, 1, 2, 3, 5, 6, 7, 8]\n",
      "{0: 0.0, 1: 0.25, 2: 0.42857142857142855, 3: 0.5357142857142857, 4: 0.0, 5: 0.5357142857142857, 6: 0.42857142857142855, 7: 0.25, 8: 0.0}\n"
     ]
    }
   ],
   "source": [
    "G_from_Corr_bottleneck = nx.from_numpy_matrix(ACorr_l1)\n",
    "print(nx.shortest_path(G_from_Corr_bottleneck,source=0,target=8,weight='weight'))\n",
    "print(nx.betweenness_centrality(G_from_Corr_bottleneck,weight='weight'))\n",
    "bottleneck_corr_l1_betweenness = nx.betweenness_centrality(G_from_Corr_bottleneck,weight='weight')"
   ]
  },
  {
   "cell_type": "code",
   "execution_count": 20,
   "metadata": {},
   "outputs": [
    {
     "name": "stdout",
     "output_type": "stream",
     "text": [
      "[0, 8]\n",
      "{0: 0.0, 1: 0.03571428571428571, 2: 0.0, 3: 0.0, 4: 0.0, 5: 0.0, 6: 0.011904761904761904, 7: 0.011904761904761904, 8: 0.011904761904761904}\n"
     ]
    }
   ],
   "source": [
    "G_from_Corr_bottleneck = nx.from_numpy_matrix(ACorr)\n",
    "print(nx.shortest_path(G_from_Corr_bottleneck,source=0,target=8,weight='weight'))\n",
    "print(nx.betweenness_centrality(G_from_Corr_bottleneck,weight='weight'))\n",
    "bottleneck_corr_betweenness = nx.betweenness_centrality(G_from_Corr_bottleneck,weight='weight')"
   ]
  },
  {
   "cell_type": "code",
   "execution_count": 21,
   "metadata": {},
   "outputs": [
    {
     "data": {
      "text/plain": [
       "array([[ 0.        ,  1.41116751,  1.41116751,  1.50403428,  7.34152295,\n",
       "         1.32914657,  1.33653846,  1.33653846,  1.33653846],\n",
       "       [ 1.41116751,  0.        ,  1.41116751,  1.50403428,  7.34152295,\n",
       "         1.32914657,  1.33653846,  1.33653846,  1.33653846],\n",
       "       [ 1.41116751,  1.41116751,  0.        ,  1.50403428,  7.34152295,\n",
       "         1.32914657,  1.33653846,  1.33653846,  1.33653846],\n",
       "       [ 1.50403428,  1.50403428,  1.50403428,  0.        , 21.13054661,\n",
       "         1.38235294,  1.32914657,  1.32914657,  1.32914657],\n",
       "       [ 7.34152295,  7.34152295,  7.34152295, 21.13054661,  0.        ,\n",
       "        21.13054661,  7.34152295,  7.34152295,  7.34152295],\n",
       "       [ 1.32914657,  1.32914657,  1.32914657,  1.38235294, 21.13054661,\n",
       "         0.        ,  1.50403428,  1.50403428,  1.50403428],\n",
       "       [ 1.33653846,  1.33653846,  1.33653846,  1.32914657,  7.34152295,\n",
       "         1.50403428,  0.        ,  1.41116751,  1.41116751],\n",
       "       [ 1.33653846,  1.33653846,  1.33653846,  1.32914657,  7.34152295,\n",
       "         1.50403428,  1.41116751,  0.        ,  1.41116751],\n",
       "       [ 1.33653846,  1.33653846,  1.33653846,  1.32914657,  7.34152295,\n",
       "         1.50403428,  1.41116751,  1.41116751,  0.        ]])"
      ]
     },
     "execution_count": 21,
     "metadata": {},
     "output_type": "execute_result"
    }
   ],
   "source": [
    "ACorr"
   ]
  },
  {
   "cell_type": "code",
   "execution_count": 22,
   "metadata": {},
   "outputs": [
    {
     "data": {
      "text/plain": [
       "array([[  0., 100., 100., 100.,   0.,   0.,   0.,   0.,   0.],\n",
       "       [100.,   0., 100., 100.,   0.,   0.,   0.,   0.,   0.],\n",
       "       [100., 100.,   0., 100.,   0.,   0.,   0.,   0.,   0.],\n",
       "       [100., 100., 100.,   0., 100.,   0.,   0.,   0.,   0.],\n",
       "       [  0.,   0.,   0., 100.,   0., 100.,   0.,   0.,   0.],\n",
       "       [  0.,   0.,   0.,   0., 100.,   0., 100., 100., 100.],\n",
       "       [  0.,   0.,   0.,   0.,   0., 100.,   0., 100., 100.],\n",
       "       [  0.,   0.,   0.,   0.,   0., 100., 100.,   0., 100.],\n",
       "       [  0.,   0.,   0.,   0.,   0., 100., 100., 100.,   0.]])"
      ]
     },
     "execution_count": 22,
     "metadata": {},
     "output_type": "execute_result"
    }
   ],
   "source": [
    "k"
   ]
  },
  {
   "cell_type": "code",
   "execution_count": 23,
   "metadata": {},
   "outputs": [
    {
     "data": {
      "text/plain": [
       "0.0"
      ]
     },
     "execution_count": 23,
     "metadata": {},
     "output_type": "execute_result"
    }
   ],
   "source": [
    "bottleneck_k_betweenness[2]"
   ]
  },
  {
   "cell_type": "code",
   "execution_count": 24,
   "metadata": {},
   "outputs": [
    {
     "data": {
      "text/plain": [
       "<matplotlib.legend.Legend at 0xa1d32d2b0>"
      ]
     },
     "execution_count": 24,
     "metadata": {},
     "output_type": "execute_result"
    },
    {
     "data": {
      "image/png": "[encoded data removed]",
      "text/plain": [
       "<Figure size 432x288 with 1 Axes>"
      ]
     },
     "metadata": {},
     "output_type": "display_data"
    }
   ],
   "source": [
    "plt.plot(*zip(*sorted(bottleneck_k_betweenness.items())),label=\"k\")\n",
    "plt.plot(*zip(*sorted(bottleneck_corr_betweenness.items())),label=\"corr\")\n",
    "plt.plot(*zip(*sorted(bottleneck_corr_l1_betweenness.items())),label=\"corr $\\lambda=1$\")\n",
    "#plt.plot(centralityCorr_l5,label=\"corr $\\lambda=5$\")\n",
    "#plt.plot(centralityCorr_l10,label=\"corr $\\lambda=10$\")\n",
    "#plt.plot(centralityCorr_l15,label=\"corr $\\lambda=15$\")\n",
    "#plt.plot(centralityCorr_l50,label=\"corr $\\lambda=50$\")\n",
    "plt.legend()"
   ]
  },
  {
   "cell_type": "code",
   "execution_count": 25,
   "metadata": {},
   "outputs": [
    {
     "data": {
      "text/plain": [
       "<matplotlib.legend.Legend at 0xa1d431748>"
      ]
     },
     "execution_count": 25,
     "metadata": {},
     "output_type": "execute_result"
    },
    {
     "data": {
      "image/png": "[encoded data removed]",
      "text/plain": [
       "<Figure size 432x288 with 1 Axes>"
      ]
     },
     "metadata": {},
     "output_type": "display_data"
    }
   ],
   "source": [
    "plt.plot(centralityK,label=\"k\")\n",
    "plt.plot(centralityCorr,label=\"corr $\\lambda\\Rightarrow\\infty$\")\n",
    "plt.plot(centralityCorr_l1,label=\"corr $\\lambda=1$\")\n",
    "#plt.plot(centralityCorr_l10,label=\"corr $\\lambda=10$\")\n",
    "#plt.plot(centralityCorr_l15,label=\"corr $\\lambda=15$\")\n",
    "#plt.plot(centralityCorr_l50,label=\"corr $\\lambda=50$\")\n",
    "plt.legend()"
   ]
  },
  {
   "cell_type": "code",
   "execution_count": 26,
   "metadata": {},
   "outputs": [
    {
     "ename": "NameError",
     "evalue": "name 'create_NN_k_matrix' is not defined",
     "output_type": "error",
     "traceback": [
      "\u001b[0;31m---------------------------------------------------------------------------\u001b[0m",
      "\u001b[0;31mNameError\u001b[0m                                 Traceback (most recent call last)",
      "\u001b[0;32m<ipython-input-26-25f84611f4b3>\u001b[0m in \u001b[0;36m<module>\u001b[0;34m()\u001b[0m\n\u001b[1;32m      2\u001b[0m \u001b[0mkij\u001b[0m \u001b[0;34m=\u001b[0m \u001b[0;36m303.1\u001b[0m\u001b[0;34m\u001b[0m\u001b[0m\n\u001b[1;32m      3\u001b[0m \u001b[0mb\u001b[0m \u001b[0;34m=\u001b[0m \u001b[0;36m2\u001b[0m\u001b[0;34m\u001b[0m\u001b[0m\n\u001b[0;32m----> 4\u001b[0;31m \u001b[0mk_9\u001b[0m  \u001b[0;34m=\u001b[0m \u001b[0mcreate_NN_k_matrix\u001b[0m\u001b[0;34m(\u001b[0m\u001b[0;36m9\u001b[0m\u001b[0;34m,\u001b[0m\u001b[0mkij\u001b[0m\u001b[0;34m)\u001b[0m\u001b[0;34m\u001b[0m\u001b[0m\n\u001b[0m\u001b[1;32m      5\u001b[0m \u001b[0mk_9\u001b[0m\u001b[0;34m\u001b[0m\u001b[0m\n",
      "\u001b[0;31mNameError\u001b[0m: name 'create_NN_k_matrix' is not defined"
     ]
    }
   ],
   "source": [
    "# create the hessian matrix for the 9 node nearest neighbor spring system\n",
    "kij = 303.1\n",
    "b = 2\n",
    "k_9  = create_NN_k_matrix(9,kij)\n",
    "k_9"
   ]
  },
  {
   "cell_type": "code",
   "execution_count": null,
   "metadata": {},
   "outputs": [],
   "source": []
  },
  {
   "cell_type": "code",
   "execution_count": 27,
   "metadata": {},
   "outputs": [
    {
     "ename": "NameError",
     "evalue": "name 'k_9' is not defined",
     "output_type": "error",
     "traceback": [
      "\u001b[0;31m---------------------------------------------------------------------------\u001b[0m",
      "\u001b[0;31mNameError\u001b[0m                                 Traceback (most recent call last)",
      "\u001b[0;32m<ipython-input-27-d67ba63c2481>\u001b[0m in \u001b[0;36m<module>\u001b[0;34m()\u001b[0m\n\u001b[0;32m----> 1\u001b[0;31m \u001b[0mk2\u001b[0m \u001b[0;34m=\u001b[0m \u001b[0mk_9\u001b[0m \u001b[0;34m+\u001b[0m \u001b[0mnp\u001b[0m\u001b[0;34m.\u001b[0m\u001b[0mones\u001b[0m\u001b[0;34m(\u001b[0m\u001b[0;34m(\u001b[0m\u001b[0;36m9\u001b[0m\u001b[0;34m,\u001b[0m\u001b[0;36m9\u001b[0m\u001b[0;34m)\u001b[0m\u001b[0;34m)\u001b[0m\u001b[0;34m\u001b[0m\u001b[0m\n\u001b[0m\u001b[1;32m      2\u001b[0m \u001b[0mx2\u001b[0m \u001b[0;34m=\u001b[0m \u001b[0mnp\u001b[0m\u001b[0;34m.\u001b[0m\u001b[0mzeros\u001b[0m\u001b[0;34m(\u001b[0m\u001b[0;36m9\u001b[0m\u001b[0;34m)\u001b[0m\u001b[0;34m\u001b[0m\u001b[0m\n\u001b[1;32m      3\u001b[0m \u001b[0mx2\u001b[0m\u001b[0;34m[\u001b[0m\u001b[0;36m0\u001b[0m\u001b[0;34m]\u001b[0m \u001b[0;34m=\u001b[0m \u001b[0;34m-\u001b[0m\u001b[0mkij\u001b[0m \u001b[0;34m*\u001b[0m \u001b[0mb\u001b[0m\u001b[0;34m\u001b[0m\u001b[0m\n\u001b[1;32m      4\u001b[0m \u001b[0mx2\u001b[0m\u001b[0;34m[\u001b[0m\u001b[0;36m8\u001b[0m\u001b[0;34m]\u001b[0m \u001b[0;34m=\u001b[0m \u001b[0;34m-\u001b[0m\u001b[0mx2\u001b[0m\u001b[0;34m[\u001b[0m\u001b[0;36m0\u001b[0m\u001b[0;34m]\u001b[0m\u001b[0;34m\u001b[0m\u001b[0m\n\u001b[1;32m      5\u001b[0m \u001b[0mprint\u001b[0m\u001b[0;34m(\u001b[0m\u001b[0mnp\u001b[0m\u001b[0;34m.\u001b[0m\u001b[0mdot\u001b[0m\u001b[0;34m(\u001b[0m\u001b[0mnp\u001b[0m\u001b[0;34m.\u001b[0m\u001b[0mlinalg\u001b[0m\u001b[0;34m.\u001b[0m\u001b[0minv\u001b[0m\u001b[0;34m(\u001b[0m\u001b[0mk2\u001b[0m\u001b[0;34m)\u001b[0m\u001b[0;34m,\u001b[0m\u001b[0mx2\u001b[0m\u001b[0;34m)\u001b[0m\u001b[0;34m)\u001b[0m\u001b[0;34m\u001b[0m\u001b[0m\n",
      "\u001b[0;31mNameError\u001b[0m: name 'k_9' is not defined"
     ]
    }
   ],
   "source": [
    "k2 = k_9 + np.ones((9,9))\n",
    "x2 = np.zeros(9)\n",
    "x2[0] = -kij * b\n",
    "x2[8] = -x2[0]\n",
    "print(np.dot(np.linalg.inv(k2),x2))\n"
   ]
  },
  {
   "cell_type": "code",
   "execution_count": 7,
   "metadata": {},
   "outputs": [
    {
     "data": {
      "text/plain": [
       "array([-1.68562619e-13,  3.65583333e+01,  1.41823859e+02,  3.03100000e+02,\n",
       "        5.00934475e+02,  7.11465525e+02,  9.09300000e+02,  1.07057614e+03,\n",
       "        1.17584167e+03])"
      ]
     },
     "execution_count": 7,
     "metadata": {},
     "output_type": "execute_result"
    }
   ],
   "source": [
    "# diagonlize the hessian\n",
    "k_9_evals, k_9_evecs = np.linalg.eigh(k_9)\n",
    "idx = k_9_evals.argsort()\n",
    "k_9_evals = k_9_evals[idx]\n",
    "k_9_evecs = k_9_evecs[:,idx]\n",
    "#print k_9_evecs\n",
    "k_9_evals"
   ]
  },
  {
   "cell_type": "code",
   "execution_count": 8,
   "metadata": {},
   "outputs": [
    {
     "data": {
      "text/plain": [
       "array([[ 6.64736000e-03,  4.30123294e-03,  2.24837176e-03,\n",
       "         4.88776470e-04, -9.77552941e-04, -2.15061647e-03,\n",
       "        -3.03041412e-03, -3.61694588e-03, -3.91021176e-03],\n",
       "       [ 4.30123294e-03,  4.59449882e-03,  2.54163765e-03,\n",
       "         7.82042352e-04, -6.84287058e-04, -1.85735059e-03,\n",
       "        -2.73714823e-03, -3.32368000e-03, -3.61694588e-03],\n",
       "       [ 2.24837176e-03,  2.54163765e-03,  3.12816941e-03,\n",
       "         1.36857412e-03, -9.77552941e-05, -1.27081882e-03,\n",
       "        -2.15061647e-03, -2.73714823e-03, -3.03041412e-03],\n",
       "       [ 4.88776470e-04,  7.82042352e-04,  1.36857412e-03,\n",
       "         2.24837176e-03,  7.82042352e-04, -3.91021176e-04,\n",
       "        -1.27081882e-03, -1.85735059e-03, -2.15061647e-03],\n",
       "       [-9.77552941e-04, -6.84287058e-04, -9.77552941e-05,\n",
       "         7.82042352e-04,  1.95510588e-03,  7.82042352e-04,\n",
       "        -9.77552941e-05, -6.84287058e-04, -9.77552941e-04],\n",
       "       [-2.15061647e-03, -1.85735059e-03, -1.27081882e-03,\n",
       "        -3.91021176e-04,  7.82042352e-04,  2.24837176e-03,\n",
       "         1.36857412e-03,  7.82042352e-04,  4.88776470e-04],\n",
       "       [-3.03041412e-03, -2.73714823e-03, -2.15061647e-03,\n",
       "        -1.27081882e-03, -9.77552941e-05,  1.36857412e-03,\n",
       "         3.12816941e-03,  2.54163765e-03,  2.24837176e-03],\n",
       "       [-3.61694588e-03, -3.32368000e-03, -2.73714823e-03,\n",
       "        -1.85735059e-03, -6.84287058e-04,  7.82042352e-04,\n",
       "         2.54163765e-03,  4.59449882e-03,  4.30123294e-03],\n",
       "       [-3.91021176e-03, -3.61694588e-03, -3.03041412e-03,\n",
       "        -2.15061647e-03, -9.77552941e-04,  4.88776470e-04,\n",
       "         2.24837176e-03,  4.30123294e-03,  6.64736000e-03]])"
      ]
     },
     "execution_count": 8,
     "metadata": {},
     "output_type": "execute_result"
    }
   ],
   "source": [
    "# here I use the eq 13 from Chennubhotla et al to compute the covariance directly from eigenvectors \n",
    "covar_from_hessian = np.zeros((9,9),dtype=float)\n",
    "for i in range(9):\n",
    "    for j in range(9):\n",
    "        for k in range(1,9):\n",
    "            covar_from_hessian[i,j] += 1.0/k_9_evals[k] * k_9_evecs[i,k] * k_9_evecs[j,k]\n",
    "covar_from_hessian *= 0.8\n",
    "covar_from_hessian"
   ]
  },
  {
   "cell_type": "code",
   "execution_count": 9,
   "metadata": {},
   "outputs": [],
   "source": [
    "# this translates to the following matrix equations\n",
    "gamma = np.diag(1.0/k_9_evals)\n",
    "gamma[0,0] = 0.\n",
    "covar_from_hessian = np.dot(k_9_evecs,np.dot(gamma,k_9_evecs.T))*0.8"
   ]
  },
  {
   "cell_type": "code",
   "execution_count": 10,
   "metadata": {},
   "outputs": [],
   "source": [
    "# read in Heidi's covariance matrix from simulation\n",
    "covar = np.loadtxt(\"covariance_nearest_neighbors.dat\")"
   ]
  },
  {
   "cell_type": "code",
   "execution_count": 11,
   "metadata": {},
   "outputs": [
    {
     "data": {
      "text/plain": [
       "array([[ 2.59838681e-01,  1.95319707e-01,  1.29544999e-01,\n",
       "         6.42267926e-02, -9.65443900e-04, -6.58313480e-02,\n",
       "        -1.30396198e-01, -1.94496103e-01, -2.57241087e-01],\n",
       "       [ 1.95319707e-01,  1.48545895e-01,  9.84698511e-02,\n",
       "         4.87963257e-02, -5.98519265e-04, -4.99003397e-02,\n",
       "        -9.88095613e-02, -1.47216312e-01, -1.94607047e-01],\n",
       "       [ 1.29544999e-01,  9.84698511e-02,  6.69587511e-02,\n",
       "         3.32984579e-02, -3.54654228e-05, -3.33209903e-02,\n",
       "        -6.60927076e-02, -9.85459933e-02, -1.30276902e-01],\n",
       "       [ 6.42267926e-02,  4.87963257e-02,  3.32984579e-02,\n",
       "         1.81253852e-02,  8.67708638e-04, -1.63223865e-02,\n",
       "        -3.32249700e-02, -4.98196740e-02, -6.59476395e-02],\n",
       "       [-9.65443900e-04, -5.98519265e-04, -3.54654228e-05,\n",
       "         8.67708638e-04,  2.01574396e-03,  8.06643231e-04,\n",
       "        -1.45371457e-04, -7.72989821e-04, -1.17230596e-03],\n",
       "       [-6.58313480e-02, -4.99003397e-02, -3.33209903e-02,\n",
       "        -1.63223865e-02,  8.06643231e-04,  1.82990063e-02,\n",
       "         3.34019589e-02,  4.87612782e-02,  6.41061778e-02],\n",
       "       [-1.30396198e-01, -9.88095613e-02, -6.60927076e-02,\n",
       "        -3.32249700e-02, -1.45371457e-04,  3.34019589e-02,\n",
       "         6.71248663e-02,  9.84536511e-02,  1.29688332e-01],\n",
       "       [-1.94496103e-01, -1.47216312e-01, -9.85459933e-02,\n",
       "        -4.98196740e-02, -7.72989821e-04,  4.87612782e-02,\n",
       "         9.84536511e-02,  1.48361861e-01,  1.95274282e-01],\n",
       "       [-2.57241087e-01, -1.94607047e-01, -1.30276902e-01,\n",
       "        -6.59476395e-02, -1.17230596e-03,  6.41061778e-02,\n",
       "         1.29688332e-01,  1.95274282e-01,  2.60176190e-01]])"
      ]
     },
     "execution_count": 11,
     "metadata": {},
     "output_type": "execute_result"
    }
   ],
   "source": [
    "covar"
   ]
  },
  {
   "cell_type": "code",
   "execution_count": 12,
   "metadata": {},
   "outputs": [
    {
     "name": "stdout",
     "output_type": "stream",
     "text": [
      "[[ 6.89239367e-03  4.55797829e-03  2.39296983e-03  6.59570222e-04\n",
      "  -1.01795676e-03 -2.27220798e-03 -3.22333084e-03 -3.74709003e-03\n",
      "  -4.24232639e-03]\n",
      " [ 4.55797829e-03  4.69107097e-03  2.61292983e-03  8.80520361e-04\n",
      "  -6.51146579e-04 -1.97944322e-03 -2.90199899e-03 -3.36907819e-03\n",
      "  -3.84083248e-03]\n",
      " [ 2.39296983e-03  2.61292983e-03  3.05692075e-03  1.36881890e-03\n",
      "  -5.71216585e-05 -1.39411684e-03 -2.18648175e-03 -2.65446295e-03\n",
      "  -3.13945610e-03]\n",
      " [ 6.59570222e-04  8.80520361e-04  1.36881890e-03  2.13391719e-03\n",
      "   8.41670530e-04 -3.67320210e-04 -1.28674043e-03 -1.87630040e-03\n",
      "  -2.35413615e-03]\n",
      " [-1.01795676e-03 -6.51146579e-04 -5.71216585e-05  8.41670530e-04\n",
      "   2.02069905e-03  8.09323836e-04 -1.08321114e-04 -7.20718141e-04\n",
      "  -1.11642917e-03]\n",
      " [-2.27220798e-03 -1.97944322e-03 -1.39411684e-03 -3.67320210e-04\n",
      "   8.09323836e-04  2.35190928e-03  1.46704619e-03  8.44672554e-04\n",
      "   5.40136377e-04]\n",
      " [-3.22333084e-03 -2.90199899e-03 -2.18648175e-03 -1.28674043e-03\n",
      "  -1.08321114e-04  1.46704619e-03  3.21091834e-03  2.54694665e-03\n",
      "   2.48196195e-03]\n",
      " [-3.74709003e-03 -3.36907819e-03 -2.65446295e-03 -1.87630040e-03\n",
      "  -7.20718141e-04  8.44672554e-04  2.54694665e-03  4.48550631e-03\n",
      "   4.49052419e-03]\n",
      " [-4.24232639e-03 -3.84083248e-03 -3.13945610e-03 -2.35413615e-03\n",
      "  -1.11642917e-03  5.40136377e-04  2.48196195e-03  4.49052419e-03\n",
      "   7.18055777e-03]]\n"
     ]
    }
   ],
   "source": [
    "# let's try and recompute Heidi's covariance\n",
    "heidi_traj = np.loadtxt(\"positions.dat\")\n",
    "nSteps = heidi_traj.shape[0]\n",
    "nNodes = heidi_traj.shape[1]\n",
    "covar = np.zeros((nNodes,nNodes),dtype=np.float64)\n",
    "avg = np.zeros(nNodes,dtype=np.float64)\n",
    "for step in range(100,nSteps):\n",
    "    # substract center-of-geometry\n",
    "    heidi_traj[step,:] -= np.mean(heidi_traj[step,:])\n",
    "    # add to average\n",
    "    avg += heidi_traj[step,:]\n",
    "    # add to covar\n",
    "    covar += np.dot(heidi_traj[step,:].reshape(nNodes,1),heidi_traj[step,:].reshape(1,nNodes))\n",
    "# finish averages\n",
    "avg /= (nSteps-100)\n",
    "covar /= (nSteps-100)\n",
    "# finish covar\n",
    "covar -= np.dot(avg.reshape(nNodes,1),avg.reshape(1,nNodes))\n",
    "print(covar)"
   ]
  },
  {
   "cell_type": "code",
   "execution_count": 13,
   "metadata": {},
   "outputs": [
    {
     "data": {
      "text/plain": [
       "array([[1.0368618 , 1.05969111, 1.06431235, 1.34943121, 1.04133159,\n",
       "        1.05653798, 1.06366019, 1.03598178, 1.0849352 ],\n",
       "       [1.05969111, 1.02101908, 1.02804971, 1.12592414, 0.95156933,\n",
       "        1.06573483, 1.06022719, 1.01365901, 1.06189935],\n",
       "       [1.06431235, 1.02804971, 0.97722353, 1.00017886, 0.58433315,\n",
       "        1.0970225 , 1.01667675, 0.96979145, 1.03598254],\n",
       "       [1.34943121, 1.12592414, 1.00017886, 0.94909446, 1.07624674,\n",
       "        0.939387  , 1.01252862, 1.01020261, 1.09463318],\n",
       "       [1.04133159, 0.95156933, 0.58433315, 1.07624674, 1.03354968,\n",
       "        1.03488492, 1.10808437, 1.05323947, 1.14206517],\n",
       "       [1.05653798, 1.06573483, 1.0970225 , 0.939387  , 1.03488492,\n",
       "        1.04605   , 1.07195232, 1.08008543, 1.10507852],\n",
       "       [1.06366019, 1.06022719, 1.01667675, 1.01252862, 1.10808437,\n",
       "        1.07195232, 1.02645283, 1.00208881, 1.10389304],\n",
       "       [1.03598178, 1.01365901, 0.96979145, 1.01020261, 1.05323947,\n",
       "        1.08008543, 1.00208881, 0.97627761, 1.0440086 ],\n",
       "       [1.0849352 , 1.06189935, 1.03598254, 1.09463318, 1.14206517,\n",
       "        1.10507852, 1.10389304, 1.0440086 , 1.08021196]])"
      ]
     },
     "execution_count": 13,
     "metadata": {},
     "output_type": "execute_result"
    }
   ],
   "source": [
    "covar/covar_from_hessian"
   ]
  },
  {
   "cell_type": "code",
   "execution_count": 54,
   "metadata": {},
   "outputs": [
    {
     "name": "stdout",
     "output_type": "stream",
     "text": [
      "[ 8.00003117e+00  6.00025427e+00  3.99949913e+00  1.99962869e+00\n",
      " -2.23259477e-04 -1.99977622e+00 -4.00007650e+00 -5.99959145e+00\n",
      " -7.99974583e+00]\n"
     ]
    }
   ],
   "source": [
    "avg_positions = np.mean(heidi_traj[100:1000,:],axis=0)\n",
    "print(avg_positions)"
   ]
  },
  {
   "cell_type": "code",
   "execution_count": 57,
   "metadata": {},
   "outputs": [
    {
     "data": {
      "text/plain": [
       "34.03472602882426"
      ]
     },
     "execution_count": 57,
     "metadata": {},
     "output_type": "execute_result"
    }
   ],
   "source": [
    "400*np.mean(covar/covar_from_hessian)"
   ]
  },
  {
   "cell_type": "code",
   "execution_count": 15,
   "metadata": {},
   "outputs": [],
   "source": [
    "def covar_to_correlation(covar):\n",
    "    M = covar.shape[0]\n",
    "    corr = np.empty((M,M),dtype=float)\n",
    "    for i in range(M):\n",
    "        for j in range(M):\n",
    "             corr[i,j] = covar[i,j]/(np.sqrt(covar[i,i]*covar[j,j]))\n",
    "    return corr"
   ]
  },
  {
   "cell_type": "code",
   "execution_count": 16,
   "metadata": {},
   "outputs": [],
   "source": [
    "measured_corr = covar_to_correlation(covar)\n",
    "analytic_corr = covar_to_correlation(covar_from_hessian)"
   ]
  },
  {
   "cell_type": "code",
   "execution_count": 17,
   "metadata": {},
   "outputs": [
    {
     "data": {
      "text/plain": [
       "array([[ 1.        ,  0.99945206,  0.9984152 ,  0.99337606, -0.0081234 ,\n",
       "        -0.99586226, -0.99879812, -0.99916456, -0.99911353],\n",
       "       [ 0.99945206,  1.        ,  0.99890477,  0.99416279, -0.00455694,\n",
       "        -0.99600434, -0.99904494, -0.99933843, -0.99921991],\n",
       "       [ 0.9984152 ,  0.99890477,  1.        ,  0.99566139,  0.00327394,\n",
       "        -0.99554416, -0.99880256, -0.99906602, -0.99892212],\n",
       "       [ 0.99337606,  0.99416279,  0.99566139,  1.        ,  0.04868483,\n",
       "        -0.99067676, -0.9954747 , -0.99586581, -0.99565124],\n",
       "       [-0.0081234 , -0.00455694,  0.00327394,  0.04868483,  1.        ,\n",
       "         0.03219789, -0.01035151, -0.01687798, -0.01710707],\n",
       "       [-0.99586226, -0.99600434, -0.99554416, -0.99067676,  0.03219789,\n",
       "         1.        ,  0.9957599 ,  0.99429518,  0.99381556],\n",
       "       [-0.99879812, -0.99904494, -0.99880256, -0.9954747 , -0.01035151,\n",
       "         0.9957599 ,  1.        ,  0.99892536,  0.99838423],\n",
       "       [-0.99916456, -0.99933843, -0.99906602, -0.99586581, -0.01687798,\n",
       "         0.99429518,  0.99892536,  1.        ,  0.9994634 ],\n",
       "       [-0.99911353, -0.99921991, -0.99892212, -0.99565124, -0.01710707,\n",
       "         0.99381556,  0.99838423,  0.9994634 ,  1.        ]])"
      ]
     },
     "execution_count": 17,
     "metadata": {},
     "output_type": "execute_result"
    }
   ],
   "source": [
    "measured_corr"
   ]
  },
  {
   "cell_type": "code",
   "execution_count": 18,
   "metadata": {},
   "outputs": [
    {
     "data": {
      "text/plain": [
       "array([[ 1.        ,  0.77830405,  0.49305843,  0.12643043, -0.27116307,\n",
       "        -0.55629391, -0.66455702, -0.65448295, -0.58823529],\n",
       "       [ 0.77830405,  1.        ,  0.67042381,  0.24331963, -0.22831483,\n",
       "        -0.57788411, -0.72199487, -0.72340426, -0.65448295],\n",
       "       [ 0.49305843,  0.67042381,  1.        ,  0.51604685, -0.03952847,\n",
       "        -0.47918636, -0.6875    , -0.72199487, -0.66455702],\n",
       "       [ 0.12643043,  0.24331963,  0.51604685,  1.        ,  0.37300192,\n",
       "        -0.17391304, -0.47918636, -0.57788411, -0.55629391],\n",
       "       [-0.27116307, -0.22831483, -0.03952847,  0.37300192,  1.        ,\n",
       "         0.37300192, -0.03952847, -0.22831483, -0.27116307],\n",
       "       [-0.55629391, -0.57788411, -0.47918636, -0.17391304,  0.37300192,\n",
       "         1.        ,  0.51604685,  0.24331963,  0.12643043],\n",
       "       [-0.66455702, -0.72199487, -0.6875    , -0.47918636, -0.03952847,\n",
       "         0.51604685,  1.        ,  0.67042381,  0.49305843],\n",
       "       [-0.65448295, -0.72340426, -0.72199487, -0.57788411, -0.22831483,\n",
       "         0.24331963,  0.67042381,  1.        ,  0.77830405],\n",
       "       [-0.58823529, -0.65448295, -0.66455702, -0.55629391, -0.27116307,\n",
       "         0.12643043,  0.49305843,  0.77830405,  1.        ]])"
      ]
     },
     "execution_count": 18,
     "metadata": {},
     "output_type": "execute_result"
    }
   ],
   "source": [
    "analytic_corr"
   ]
  },
  {
   "cell_type": "code",
   "execution_count": 17,
   "metadata": {},
   "outputs": [],
   "source": [
    "np.savetxt(\"9node_nearestneighbor_analytic_corr.dat\",analytic_corr)"
   ]
  },
  {
   "cell_type": "code",
   "execution_count": 70,
   "metadata": {},
   "outputs": [],
   "source": [
    "def compute_correlation_from_hessian(hess):\n",
    "    M = hess.shape[0]\n",
    "    hess_evals, hess_evecs = np.linalg.eig(hess)\n",
    "    # sort eigenvectors and eigenvalues in ascending order (of eigenvalues)\n",
    "    idx = hess_evals.argsort()\n",
    "    hess_evals = hess_evals[idx]\n",
    "    hess_evecs = hess_evecs[:,idx]\n",
    "    print(hess_evecs)\n",
    "    # this translates to the following matrix equations\n",
    "    gamma = np.diag(1.0/hess_evals)\n",
    "    gamma[0,0] = 0.\n",
    "    covar_from_hessian = np.dot(hess_evecs,np.dot(gamma,hess_evecs.T))*0.8\n",
    "    analytic_corr = covar_to_correlation(covar_from_hessian)\n",
    "    return analytic_corr, covar_from_hessian"
   ]
  },
  {
   "cell_type": "code",
   "execution_count": 71,
   "metadata": {},
   "outputs": [
    {
     "name": "stdout",
     "output_type": "stream",
     "text": [
      "[[ 606.2 -303.1    0.     0.     0.     0.     0.     0.  -303.1]\n",
      " [-303.1  606.2 -303.1    0.     0.     0.     0.     0.     0. ]\n",
      " [   0.  -303.1  606.2 -303.1    0.     0.     0.     0.     0. ]\n",
      " [   0.     0.  -303.1  606.2 -303.1    0.     0.     0.     0. ]\n",
      " [   0.     0.     0.  -303.1  606.2 -303.1    0.     0.     0. ]\n",
      " [   0.     0.     0.     0.  -303.1  606.2 -303.1    0.     0. ]\n",
      " [   0.     0.     0.     0.     0.  -303.1  606.2 -303.1    0. ]\n",
      " [   0.     0.     0.     0.     0.     0.  -303.1  606.2 -303.1]\n",
      " [-303.1    0.     0.     0.     0.     0.     0.  -303.1  606.2]]\n"
     ]
    }
   ],
   "source": [
    "k9_NN_plus_19 = np.copy(k_9)\n",
    "k9_NN_plus_19[0,8] = k9_NN_plus_19[8,0] = -kij\n",
    "k9_NN_plus_19[0,0] += kij\n",
    "k9_NN_plus_19[8,8] += kij\n",
    "print(k9_NN_plus_19)"
   ]
  },
  {
   "cell_type": "code",
   "execution_count": 72,
   "metadata": {},
   "outputs": [
    {
     "name": "stdout",
     "output_type": "stream",
     "text": [
      "[[ 0.33333333 -0.47140452  0.18079434  0.05798414 -0.47140452  0.47140452\n",
      "   0.02577337 -0.47140452 -0.03523236]\n",
      " [ 0.33333333 -0.36111681 -0.14134552  0.47078635 -0.08185854 -0.23570226\n",
      "   0.39475098  0.44297535  0.19388649]\n",
      " [ 0.33333333 -0.08185854 -0.39734824  0.10551824  0.44297535 -0.23570226\n",
      "  -0.42052435 -0.36111681 -0.32915505]\n",
      " [ 0.33333333  0.23570226 -0.4674273  -0.43414025  0.23570226  0.47140452\n",
      "   0.02577337  0.23570226  0.42472265]\n",
      " [ 0.33333333  0.44297535 -0.31879194 -0.25629357 -0.36111681 -0.23570226\n",
      "   0.39475098 -0.08185854 -0.46906243]\n",
      " [ 0.33333333  0.44297535 -0.02099028  0.34513042 -0.36111681 -0.23570226\n",
      "  -0.42052435 -0.08185854  0.45682636]\n",
      " [ 0.33333333  0.23570226  0.28663296  0.37615611  0.23570226  0.47140452\n",
      "   0.02577337  0.23570226 -0.38949029]\n",
      " [ 0.33333333 -0.08185854  0.46013746 -0.21449278  0.44297535 -0.23570226\n",
      "   0.39475098 -0.36111681  0.27517594]\n",
      " [ 0.33333333 -0.36111681  0.41833852 -0.45064867 -0.08185854 -0.23570226\n",
      "  -0.42052435  0.44297535 -0.12767131]]\n"
     ]
    }
   ],
   "source": [
    "k9_NN_plus_19_corr, k9_NN_plus_19_covar = compute_correlation_from_hessian(k9_NN_plus_19)"
   ]
  },
  {
   "cell_type": "code",
   "execution_count": 67,
   "metadata": {},
   "outputs": [
    {
     "data": {
      "text/plain": [
       "array([[ 2.14628281e-03,  6.85793749e-04, -4.94855114e-04,\n",
       "        -1.21077956e-03, -1.30620309e-03, -9.87485775e-04,\n",
       "        -3.47218222e-04,  3.53996812e-04,  1.16046839e-03],\n",
       "       [ 6.85793749e-04,  1.55800606e-03,  2.55549848e-04,\n",
       "        -4.26405445e-04, -6.94219893e-04, -6.40484104e-04,\n",
       "        -5.25800835e-04, -3.05861017e-04,  9.34216348e-05],\n",
       "       [-4.94855114e-04,  2.55549848e-04,  1.62645573e-03,\n",
       "         7.72109518e-04,  2.39313542e-04, -2.32534953e-04,\n",
       "        -5.99126899e-04, -7.86376012e-04, -7.80535661e-04],\n",
       "       [-1.21077956e-03, -4.26405445e-04,  7.72109518e-04,\n",
       "         2.29217472e-03,  1.23379446e-03,  2.80670747e-04,\n",
       "        -4.93110130e-04, -1.07380154e-03, -1.37465276e-03],\n",
       "       [-1.30620309e-03, -6.94219893e-04,  2.39313542e-04,\n",
       "         1.23379446e-03,  2.33353192e-03,  9.73219281e-04,\n",
       "        -1.94003897e-04, -1.08138688e-03, -1.50404545e-03],\n",
       "       [-9.87485775e-04, -6.40484104e-04, -2.32534953e-04,\n",
       "         2.80670747e-04,  9.73219281e-04,  1.85885728e-03,\n",
       "         3.84942533e-04, -6.24247799e-04, -1.01293721e-03],\n",
       "       [-3.47218222e-04, -5.25800835e-04, -5.99126899e-04,\n",
       "        -4.93110130e-04, -1.94003897e-04,  3.84942533e-04,\n",
       "         1.42861338e-03,  4.53392201e-04, -1.07688128e-04],\n",
       "       [ 3.53996812e-04, -3.05861017e-04, -7.86376012e-04,\n",
       "        -1.07380154e-03, -1.08138688e-03, -6.24247799e-04,\n",
       "         4.53392201e-04,  1.94517305e-03,  1.11911119e-03],\n",
       "       [ 1.16046839e-03,  9.34216348e-05, -7.80535661e-04,\n",
       "        -1.37465276e-03, -1.50404545e-03, -1.01293721e-03,\n",
       "        -1.07688128e-04,  1.11911119e-03,  2.40685799e-03]])"
      ]
     },
     "execution_count": 67,
     "metadata": {},
     "output_type": "execute_result"
    }
   ],
   "source": [
    "k9_NN_plus_19_covar"
   ]
  },
  {
   "cell_type": "code",
   "execution_count": 46,
   "metadata": {},
   "outputs": [],
   "source": [
    "np.savetxt(\"9node_nearestneighbor_plus_1_9_analytic_corr.dat\",k9_NN_plus_19_corr)"
   ]
  },
  {
   "cell_type": "code",
   "execution_count": 23,
   "metadata": {},
   "outputs": [
    {
     "data": {
      "text/plain": [
       "array([[ 1.        ,  0.77481132,  0.46789818,  0.12223329, -0.25633782,\n",
       "        -0.54909246, -0.65111888, -0.64809241, -0.58738084],\n",
       "       [ 0.77481132,  1.        ,  0.65834024,  0.23880768, -0.21971135,\n",
       "        -0.58376429, -0.71670579, -0.71474891, -0.64808748],\n",
       "       [ 0.46789818,  0.65834024,  1.        ,  0.51733209, -0.0226599 ,\n",
       "        -0.48742043, -0.68769036, -0.70782996, -0.64557873],\n",
       "       [ 0.12223329,  0.23880768,  0.51733209,  1.        ,  0.38273453,\n",
       "        -0.18233004, -0.47982085, -0.58839961, -0.54777559],\n",
       "       [-0.25633782, -0.21971135, -0.0226599 ,  0.38273453,  1.        ,\n",
       "         0.37408833, -0.04471319, -0.24910118, -0.29611406],\n",
       "       [-0.54909246, -0.58376429, -0.48742043, -0.18233004,  0.37408833,\n",
       "         1.        ,  0.52754451,  0.24066997,  0.12319119],\n",
       "       [-0.65111888, -0.71670579, -0.68769036, -0.47982085, -0.04471319,\n",
       "         0.52754451,  1.        ,  0.65894549,  0.47828699],\n",
       "       [-0.64809241, -0.71474891, -0.70782996, -0.58839961, -0.24910118,\n",
       "         0.24066997,  0.65894549,  1.        ,  0.78331875],\n",
       "       [-0.58738084, -0.64808748, -0.64557873, -0.54777559, -0.29611406,\n",
       "         0.12319119,  0.47828699,  0.78331875,  1.        ]])"
      ]
     },
     "execution_count": 23,
     "metadata": {},
     "output_type": "execute_result"
    }
   ],
   "source": [
    "# read in Heidi's covariance matrix from simulation\n",
    "covar_19 = np.loadtxt(\"covariance_9springs.dat\")\n",
    "corr_19 = covar_to_correlation(covar_19)\n",
    "corr_19"
   ]
  },
  {
   "cell_type": "code",
   "execution_count": 90,
   "metadata": {},
   "outputs": [],
   "source": [
    "def linear_MI_rMI_from_covar(covar,d=1):\n",
    "    # size of the array for MI and rMI is the number of nodes\n",
    "    N = covar.shape[0]//d\n",
    "    # declare MI and rMI matrices\n",
    "    rMI = np.zeros((N,N),dtype=float)\n",
    "    MI = np.zeros((N,N),dtype=float)\n",
    "    # check dimensionality of system - 1D we need to avoid taking determinants\n",
    "    if (d==1):\n",
    "        # loop over unique pairs of nodes\n",
    "        for i in range(N-1):\n",
    "            for j in range(i+1,N):\n",
    "                # compute numerator in argument of log of linear MI equation\n",
    "                temp = covar[i,i]*covar[j,j]\n",
    "                # compute linear MI (eq 10 of Grubmuller 2005)\n",
    "                MI[i,j] = 0.5*np.log(temp/(temp-covar[i,j]**2))\n",
    "                # symmetrize MI\n",
    "                MI[j,i] = MI[i,j]\n",
    "                # compute rMI (eq 9 from Grubmuller 2005 with sqrt instead of inverse sqrt - typo in paper)\n",
    "                rMI[i,j] = np.sqrt(1.0-np.exp(-2.0*MI[i,j]/d))\n",
    "                # symmetrize rMI\n",
    "                rMI[j,i] = rMI[i,j]\n",
    "    else:\n",
    "        # loop over unique pairs of nodes\n",
    "        for i in range(N-1):\n",
    "            # i index assuming that each node has d values sequentially populating the covar matrix\n",
    "            iIndex = i*d\n",
    "            for j in range(i+1,N):\n",
    "                # j index assuming that each node has d values sequentially populating the covar matrix\n",
    "                jIndex = j*d\n",
    "                # compute numerator in argument of log of linear MI equation\n",
    "                temp = np.linalg.det(covar[iIndex:iIndex+d,iIndex:iIndex+d])*np.linalg.det(covar[jIndex:jIndex+d,jIndex:jIndex+d])\n",
    "                # make list of indeces for the 2d X 2d C_ij matrix\n",
    "                idx = np.append(np.arange(iIndex,iIndex+d,1),np.arange(jIndex,jIndex+d,1))\n",
    "                # compute linear MI (eq 10 of Grubmuller 2005)\n",
    "                MI[i,j] = 0.5*np.log(temp/np.linalg.det(covar[np.ix_(idx,idx)]))\n",
    "                # symmetrize\n",
    "                MI[j,i] = MI[i,j]\n",
    "                # compute rMI (eq 9 from Grubmuller 2005 with sqrt instead of inverse sqrt - typo in paper)\n",
    "                rMI[i,j] = np.sqrt(1.0-np.exp(-2.0*MI[i,j]/d))\n",
    "                # symmetrize\n",
    "                rMI[j,i] = rMI[i,j]\n",
    "    \n",
    "    # populate diagonal elements of MI and rMI\n",
    "    MI += np.diag(np.full(N,np.inf))\n",
    "    rMI += np.diag(np.ones(N))\n",
    "    # return MI and rMI\n",
    "    return MI,rMI    \n",
    "\n",
    "def linear_MI_from_covar(covar):\n",
    "    M = covar.shape[0]\n",
    "    MI = np.empty((M,M))\n",
    "    for i in range(M):\n",
    "        for j in range(M):\n",
    "            temp = covar[i,i]*covar[j,j]\n",
    "            MI[i,j] = 0.5*np.log(temp/(temp-covar[i,j]**2))\n",
    "    return MI"
   ]
  },
  {
   "cell_type": "code",
   "execution_count": 91,
   "metadata": {},
   "outputs": [
    {
     "data": {
      "text/plain": [
       "array([[        inf,  0.56419694,  0.52337777],\n",
       "       [ 0.56419694,         inf,  0.46543099],\n",
       "       [ 0.52337777,  0.46543099,         inf]])"
      ]
     },
     "execution_count": 91,
     "metadata": {},
     "output_type": "execute_result"
    }
   ],
   "source": [
    "k9_NN_plus_19_MI,k9_NN_plus_19_rMI  = linear_rMI_from_covar(k9_NN_plus_19_covar,d=3)\n",
    "k9_NN_plus_19_rMI\n",
    "k9_NN_plus_19_MI"
   ]
  },
  {
   "cell_type": "code",
   "execution_count": 77,
   "metadata": {},
   "outputs": [
    {
     "name": "stdout",
     "output_type": "stream",
     "text": [
      "[0 1 2 6 7 8]\n"
     ]
    }
   ],
   "source": [
    "idx = np.arange(0,3,1)\n",
    "idx = np.append(idx,np.arange(6,9,1))\n",
    "print idx"
   ]
  },
  {
   "cell_type": "code",
   "execution_count": 86,
   "metadata": {},
   "outputs": [
    {
     "data": {
      "text/plain": [
       "(6, 6)"
      ]
     },
     "execution_count": 86,
     "metadata": {},
     "output_type": "execute_result"
    }
   ],
   "source": [
    "k9_NN_plus_19_covar[np.ix_(idx,idx)].shape"
   ]
  },
  {
   "cell_type": "code",
   "execution_count": 87,
   "metadata": {},
   "outputs": [
    {
     "data": {
      "text/plain": [
       "array([[ 0.0020633 ,  0.0009458 ,  0.00021641],\n",
       "       [ 0.0009458 ,  0.00226928,  0.00108312],\n",
       "       [ 0.00021641,  0.00108312,  0.00198056]])"
      ]
     },
     "execution_count": 87,
     "metadata": {},
     "output_type": "execute_result"
    }
   ],
   "source": [
    "k9_NN_plus_19_covar[0:3,0:3]"
   ]
  },
  {
   "cell_type": "code",
   "execution_count": 78,
   "metadata": {},
   "outputs": [
    {
     "data": {
      "text/plain": [
       "array([[ 1.,  0.,  0.,  0.,  0.,  0.,  0.,  0.,  0.],\n",
       "       [ 0.,  1.,  0.,  0.,  0.,  0.,  0.,  0.,  0.],\n",
       "       [ 0.,  0.,  1.,  0.,  0.,  0.,  0.,  0.,  0.],\n",
       "       [ 0.,  0.,  0.,  1.,  0.,  0.,  0.,  0.,  0.],\n",
       "       [ 0.,  0.,  0.,  0.,  1.,  0.,  0.,  0.,  0.],\n",
       "       [ 0.,  0.,  0.,  0.,  0.,  1.,  0.,  0.,  0.],\n",
       "       [ 0.,  0.,  0.,  0.,  0.,  0.,  1.,  0.,  0.],\n",
       "       [ 0.,  0.,  0.,  0.,  0.,  0.,  0.,  1.,  0.],\n",
       "       [ 0.,  0.,  0.,  0.,  0.,  0.,  0.,  0.,  1.]])"
      ]
     },
     "execution_count": 78,
     "metadata": {},
     "output_type": "execute_result"
    }
   ],
   "source": [
    "N=9\n",
    "np.diag(np.ones(N))"
   ]
  },
  {
   "cell_type": "code",
   "execution_count": 99,
   "metadata": {},
   "outputs": [
    {
     "data": {
      "text/plain": [
       "array([[  2.54104705e+17,   2.54104705e+17,   2.54104705e+17,\n",
       "          2.54104705e+17,   2.54104705e+17,   2.54104705e+17,\n",
       "          2.54104705e+17,   2.54104705e+17,   2.54104705e+17],\n",
       "       [  2.54104705e+17,   2.54104705e+17,   2.54104705e+17,\n",
       "          2.54104705e+17,   2.54104705e+17,   2.54104705e+17,\n",
       "          2.54104705e+17,   2.54104705e+17,   2.54104705e+17],\n",
       "       [  2.54104705e+17,   2.54104705e+17,   2.54104705e+17,\n",
       "          2.54104705e+17,   2.54104705e+17,   2.54104705e+17,\n",
       "          2.54104705e+17,   2.54104705e+17,   2.54104705e+17],\n",
       "       [  2.54104705e+17,   2.54104705e+17,   2.54104705e+17,\n",
       "          2.54104705e+17,   2.54104705e+17,   2.54104705e+17,\n",
       "          2.54104705e+17,   2.54104705e+17,   2.54104705e+17],\n",
       "       [  2.54104705e+17,   2.54104705e+17,   2.54104705e+17,\n",
       "          2.54104705e+17,   2.54104705e+17,   2.54104705e+17,\n",
       "          2.54104705e+17,   2.54104705e+17,   2.54104705e+17],\n",
       "       [  2.54104705e+17,   2.54104705e+17,   2.54104705e+17,\n",
       "          2.54104705e+17,   2.54104705e+17,   2.54104705e+17,\n",
       "          2.54104705e+17,   2.54104705e+17,   2.54104705e+17],\n",
       "       [  2.54104705e+17,   2.54104705e+17,   2.54104705e+17,\n",
       "          2.54104705e+17,   2.54104705e+17,   2.54104705e+17,\n",
       "          2.54104705e+17,   2.54104705e+17,   2.54104705e+17],\n",
       "       [  2.54104705e+17,   2.54104705e+17,   2.54104705e+17,\n",
       "          2.54104705e+17,   2.54104705e+17,   2.54104705e+17,\n",
       "          2.54104705e+17,   2.54104705e+17,   2.54104705e+17],\n",
       "       [  2.54104705e+17,   2.54104705e+17,   2.54104705e+17,\n",
       "          2.54104705e+17,   2.54104705e+17,   2.54104705e+17,\n",
       "          2.54104705e+17,   2.54104705e+17,   2.54104705e+17]])"
      ]
     },
     "execution_count": 99,
     "metadata": {},
     "output_type": "execute_result"
    }
   ],
   "source": [
    "np.linalg.inv(covar_from_hessian)"
   ]
  },
  {
   "cell_type": "code",
   "execution_count": 109,
   "metadata": {},
   "outputs": [
    {
     "name": "stdout",
     "output_type": "stream",
     "text": [
      "[ -8.12377476e-19   8.50454639e-04   9.34076486e-04   1.09974706e-03\n",
      "   1.40554948e-03   1.99626907e-03   3.29924117e-03   7.05099981e-03\n",
      "   2.73535446e-02]\n"
     ]
    }
   ],
   "source": [
    "alpha, a = np.linalg.eig(covar_from_hessian/0.8)\n",
    "idx = alpha.argsort()\n",
    "alpha = alpha[idx]\n",
    "a = a[:,idx]\n",
    "print alpha"
   ]
  },
  {
   "cell_type": "code",
   "execution_count": 107,
   "metadata": {},
   "outputs": [],
   "source": [
    "kappa = np.diag(1.0/alpha)\n",
    "kappa[0,0] = 0.\n",
    "krev = np.dot(a,np.dot(kappa,a.T))"
   ]
  },
  {
   "cell_type": "code",
   "execution_count": 108,
   "metadata": {},
   "outputs": [
    {
     "name": "stdout",
     "output_type": "stream",
     "text": [
      "[[  3.03100000e+02  -3.03100000e+02  -4.22307160e-13  -5.94107248e-14\n",
      "   -7.03659693e-13   1.17074531e-12  -6.70469884e-13   1.35620439e-13\n",
      "   -4.92939023e-13]\n",
      " [ -3.03100000e+02   6.06200000e+02  -3.03100000e+02  -2.45859587e-13\n",
      "    1.83509436e-12  -1.27895508e-12   6.65069987e-13  -6.77127462e-14\n",
      "    9.97424365e-13]\n",
      " [ -4.12231950e-13  -3.03100000e+02   6.06200000e+02  -3.03100000e+02\n",
      "   -5.17500427e-13   1.21263129e-12  -1.01162423e-12  -5.36641355e-13\n",
      "    2.66453526e-14]\n",
      " [ -6.60800893e-14  -2.44197202e-13  -3.03100000e+02   6.06200000e+02\n",
      "   -3.03100000e+02  -3.88243051e-14  -9.64877539e-13   1.12120262e-12\n",
      "   -5.92415006e-13]\n",
      " [ -7.15566924e-13   1.83141545e-12  -5.25333339e-13  -3.03100000e+02\n",
      "    6.06200000e+02  -3.03100000e+02   1.55072447e-12  -4.87230478e-13\n",
      "    2.78145932e-13]\n",
      " [  1.18123999e-12  -1.26566923e-12   1.24105233e-12  -9.57272791e-14\n",
      "   -3.03100000e+02   6.06200000e+02  -3.03100000e+02  -4.67984278e-13\n",
      "    6.92335078e-13]\n",
      " [ -6.80011692e-13   6.07847084e-13  -1.01185579e-12  -9.93533711e-13\n",
      "    1.55357387e-12  -3.03100000e+02   6.06200000e+02  -3.03100000e+02\n",
      "   -4.48530102e-13]\n",
      " [  1.35314957e-13  -1.08672500e-14  -5.64994023e-13   1.15395207e-12\n",
      "   -4.85642766e-13  -4.69354193e-13  -3.03100000e+02   6.06200000e+02\n",
      "   -3.03100000e+02]\n",
      " [ -5.07149878e-13   1.01163522e-12   3.46389584e-14  -6.13731288e-13\n",
      "    2.78145932e-13   6.63469280e-13  -4.49418280e-13  -3.03100000e+02\n",
      "    3.03100000e+02]]\n"
     ]
    }
   ],
   "source": [
    "print krev"
   ]
  },
  {
   "cell_type": "code",
   "execution_count": null,
   "metadata": {},
   "outputs": [],
   "source": [
    "def k_from_covar(covar):\n",
    "    alpha, a = np.linalg.eig(covar_from_hessian/0.8)\n",
    "    idx = alpha.argsort()\n",
    "    alpha = alpha[idx]\n",
    "    a = a[:,idx]\n",
    "    kappa = np.diag(1.0/alpha)\n",
    "    kappa[0,0] = 0.\n",
    "    krev = np.dot(a,np.dot(kappa,a.T))\n",
    "    return krev"
   ]
  }
 ],
 "metadata": {
  "kernelspec": {
   "display_name": "Python 3",
   "language": "python",
   "name": "python3"
  },
  "language_info": {
   "codemirror_mode": {
    "name": "ipython",
    "version": 3
   },
   "file_extension": ".py",
   "mimetype": "text/x-python",
   "name": "python",
   "nbconvert_exporter": "python",
   "pygments_lexer": "ipython3",
   "version": "3.6.5"
  }
 },
 "nbformat": 4,
 "nbformat_minor": 2
}
