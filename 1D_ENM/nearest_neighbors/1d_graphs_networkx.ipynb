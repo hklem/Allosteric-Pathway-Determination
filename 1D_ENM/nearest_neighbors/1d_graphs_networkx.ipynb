{
 "cells": [
  {
   "cell_type": "code",
   "execution_count": 1,
   "metadata": {},
   "outputs": [],
   "source": [
    "import numpy as np\n",
    "import matplotlib.pyplot as plt\n",
    "import networkx as nx\n",
    "%matplotlib inline"
   ]
  },
  {
   "cell_type": "code",
   "execution_count": 2,
   "metadata": {},
   "outputs": [],
   "source": [
    "def create_NN_graph(nNodes,kij):\n",
    "    \n",
    "    G = nx.Graph()\n",
    "    \n",
    "    elist = []\n",
    "    for i in range(nNodes-1):\n",
    "        edge_tuple = (i,i+1,kij)\n",
    "        elist.append(edge_tuple)\n",
    "    G.add_weighted_edges_from(elist)\n",
    "    return G\n",
    "\n",
    "def create_bottleneck_k_matrix(nNodes,kij):\n",
    "    \n",
    "    k = np.zeros((nNodes,nNodes),dtype=float)\n",
    "\n",
    "    for i in range(nNodes-1):\n",
    "        for j in range(i+1,nNodes):\n",
    "            # nearest neighbors are bonded\n",
    "            if (abs(i-j)<2):\n",
    "                k[i,j] = kij\n",
    "            elif i < nNodes//2 and j < nNodes//2:\n",
    "                k[i,j] = kij\n",
    "            elif i > nNodes//2 and j > nNodes//2:\n",
    "                k[i,j] = kij\n",
    "            # symmetrize\n",
    "            k[j,i] = k[i,j]\n",
    "    return k\n",
    "\n",
    "def k_to_hessian(k):\n",
    "    hessian = -k\n",
    "    for i in range(hessian.shape[0]):\n",
    "        hessian[i,i] = -np.sum(hessian[i,:])\n",
    "    return hessian\n",
    "\n",
    "def compute_correlation_from_hessian(hess):\n",
    "    M = hess.shape[0]\n",
    "    hess_evals, hess_evecs = np.linalg.eigh(hess)\n",
    "    # this translates to the following matrix equations\n",
    "    gamma = np.diag(1.0/hess_evals)\n",
    "    gamma[0,0] = 0.\n",
    "    covar_from_hessian = np.dot(hess_evecs,np.dot(gamma,hess_evecs.T))*0.8\n",
    "    analytic_corr = covar_to_correlation(covar_from_hessian)\n",
    "    return analytic_corr, covar_from_hessian\n",
    "\n",
    "def covar_to_correlation(covar):\n",
    "    M = covar.shape[0]\n",
    "    corr = np.empty((M,M),dtype=float)\n",
    "    for i in range(M):\n",
    "        for j in range(M):\n",
    "             corr[i,j] = covar[i,j]/(np.sqrt(covar[i,i]*covar[j,j]))\n",
    "    return corr"
   ]
  },
  {
   "cell_type": "code",
   "execution_count": 3,
   "metadata": {},
   "outputs": [],
   "source": [
    "def centrality(A,n):\n",
    "    e, v = np.linalg.eigh(A)\n",
    "    centrality = np.zeros(A.shape[0])\n",
    "    for i in range(1,n+1):\n",
    "        centrality += 1.0/e[-i]*np.dot(A,v[:,-i])\n",
    "    cmax = np.amax(-centrality)\n",
    "    cmin = np.amin(-centrality)\n",
    "    return 2 * (-centrality-cmin)/(cmax-cmin) - 1\n",
    "    #return -centrality"
   ]
  },
  {
   "cell_type": "code",
   "execution_count": 4,
   "metadata": {},
   "outputs": [],
   "source": [
    "nearestNeighborGraph = create_NN_graph(9,100.0)"
   ]
  },
  {
   "cell_type": "code",
   "execution_count": 5,
   "metadata": {},
   "outputs": [
    {
     "data": {
      "text/plain": [
       "[0, 1, 2, 3, 4, 5, 6, 7, 8]"
      ]
     },
     "execution_count": 5,
     "metadata": {},
     "output_type": "execute_result"
    }
   ],
   "source": [
    "nx.shortest_path(nearestNeighborGraph,source=0,target=8)"
   ]
  },
  {
   "cell_type": "code",
   "execution_count": 6,
   "metadata": {},
   "outputs": [
    {
     "data": {
      "text/plain": [
       "matrix([[  0., 100.,   0.,   0.,   0.,   0.,   0.,   0.,   0.],\n",
       "        [100.,   0., 100.,   0.,   0.,   0.,   0.,   0.,   0.],\n",
       "        [  0., 100.,   0., 100.,   0.,   0.,   0.,   0.,   0.],\n",
       "        [  0.,   0., 100.,   0., 100.,   0.,   0.,   0.,   0.],\n",
       "        [  0.,   0.,   0., 100.,   0., 100.,   0.,   0.,   0.],\n",
       "        [  0.,   0.,   0.,   0., 100.,   0., 100.,   0.,   0.],\n",
       "        [  0.,   0.,   0.,   0.,   0., 100.,   0., 100.,   0.],\n",
       "        [  0.,   0.,   0.,   0.,   0.,   0., 100.,   0., 100.],\n",
       "        [  0.,   0.,   0.,   0.,   0.,   0.,   0., 100.,   0.]])"
      ]
     },
     "execution_count": 6,
     "metadata": {},
     "output_type": "execute_result"
    }
   ],
   "source": [
    "nx.to_numpy_matrix(nearestNeighborGraph)"
   ]
  },
  {
   "cell_type": "code",
   "execution_count": 7,
   "metadata": {},
   "outputs": [
    {
     "name": "stdout",
     "output_type": "stream",
     "text": [
      "[[  0. 100. 100. 100.   0.   0.   0.   0.   0.]\n",
      " [100.   0. 100. 100.   0.   0.   0.   0.   0.]\n",
      " [100. 100.   0. 100.   0.   0.   0.   0.   0.]\n",
      " [100. 100. 100.   0. 100.   0.   0.   0.   0.]\n",
      " [  0.   0.   0. 100.   0. 100.   0.   0.   0.]\n",
      " [  0.   0.   0.   0. 100.   0. 100. 100. 100.]\n",
      " [  0.   0.   0.   0.   0. 100.   0. 100. 100.]\n",
      " [  0.   0.   0.   0.   0. 100. 100.   0. 100.]\n",
      " [  0.   0.   0.   0.   0. 100. 100. 100.   0.]]\n"
     ]
    }
   ],
   "source": [
    "k = create_bottleneck_k_matrix(9,100)\n",
    "print(k)"
   ]
  },
  {
   "cell_type": "code",
   "execution_count": null,
   "metadata": {},
   "outputs": [],
   "source": [
    "bottleneckHessian = k_to_hessian(k)\n",
    "bottleneckCorr, bottleneckCovar = compute_correlation_from_hessian(bottleneckHessian)\n",
    "bottleneckCorr"
   ]
  },
  {
   "cell_type": "code",
   "execution_count": null,
   "metadata": {},
   "outputs": [],
   "source": [
    "Ak = np.copy(k)\n",
    "for i in range(Ak.shape[0]):\n",
    "    for j in range(Ak.shape[1]):\n",
    "        Ak[i,j] /= np.sqrt(np.sum(k[:,i])*np.sum(k[:,j]))\n",
    "Ak"
   ]
  },
  {
   "cell_type": "code",
   "execution_count": null,
   "metadata": {},
   "outputs": [],
   "source": [
    "scaled_bottleneck??????"
   ]
  },
  {
   "cell_type": "code",
   "execution_count": null,
   "metadata": {},
   "outputs": [],
   "source": [
    "cost_from_k = 1.0/k\n",
    "for i in range(k.shape[0]): cost_from_k[i,i] = 0.0\n",
    "\n",
    "for i in range(9-2):\n",
    "    for j in range(i+2,9):\n",
    "        if k[i,j] > 0:\n",
    "            scaled_bottleneck[i,j] *= 1.0/k[i,j]\n",
    "            scaled_bottleneck[j,i] = scaled_bottleneck[i,j]\n",
    "G_from_k_bottleneck = nx.from_numpy_matrix(cost_from_k)\n",
    "nx.shortest_path(G_from_k_bottleneck,source=0,target=8,weight='weight')"
   ]
  },
  {
   "cell_type": "code",
   "execution_count": null,
   "metadata": {},
   "outputs": [],
   "source": [
    "bottleneck_k_betweenness = nx.betweenness_centrality(G_from_k_bottleneck,weight='weight')"
   ]
  },
  {
   "cell_type": "code",
   "execution_count": null,
   "metadata": {},
   "outputs": [],
   "source": [
    "centralityK = centrality(Ak,1)"
   ]
  },
  {
   "cell_type": "code",
   "execution_count": null,
   "metadata": {},
   "outputs": [],
   "source": [
    "print(centralityCorr)"
   ]
  },
  {
   "cell_type": "code",
   "execution_count": null,
   "metadata": {},
   "outputs": [],
   "source": [
    "pairDist = np.empty(k.shape,dtype=np.float64)\n",
    "for i in range(k.shape[0]):\n",
    "    for j in range(k.shape[1]):\n",
    "        pairDist[i,j] = abs(i-j)*2.0\n",
    "pairDist"
   ]
  },
  {
   "cell_type": "code",
   "execution_count": null,
   "metadata": {},
   "outputs": [],
   "source": [
    "ACorr = abs(bottleneckCorr-np.identity(bottleneckCorr.shape[0]))\n",
    "ACorr_l1 = np.copy(ACorr)\n",
    "lamb = 1.0\n",
    "for i in range(ACorr.shape[0]):\n",
    "    for j in range(ACorr.shape[1]):\n",
    "        ACorr_l1[i,j] *= np.exp(-pairDist[i,j]/lamb)\n",
    "centralityCorr = centrality(ACorr,1)\n",
    "centralityCorr_l1 = centrality(ACorr_l1,1)"
   ]
  },
  {
   "cell_type": "code",
   "execution_count": null,
   "metadata": {},
   "outputs": [],
   "source": [
    "ACorr_l1 = 1.0/ACorr_l1\n",
    "for i in range(ACorr_l1.shape[0]): ACorr_l1[i,i] = 0.0"
   ]
  },
  {
   "cell_type": "code",
   "execution_count": null,
   "metadata": {},
   "outputs": [],
   "source": [
    "ACorr = 1.0/ACorr\n",
    "for i in range(ACorr.shape[0]): ACorr[i,i] = 0.0"
   ]
  },
  {
   "cell_type": "code",
   "execution_count": null,
   "metadata": {},
   "outputs": [],
   "source": [
    "G_from_Corr_bottleneck = nx.from_numpy_matrix(ACorr_l1)\n",
    "print(nx.shortest_path(G_from_Corr_bottleneck,source=0,target=8,weight='weight'))\n",
    "print(nx.betweenness_centrality(G_from_Corr_bottleneck,weight='weight'))\n",
    "bottleneck_corr_l1_betweenness = nx.betweenness_centrality(G_from_Corr_bottleneck,weight='weight')"
   ]
  },
  {
   "cell_type": "code",
   "execution_count": null,
   "metadata": {},
   "outputs": [],
   "source": [
    "G_from_Corr_bottleneck = nx.from_numpy_matrix(ACorr)\n",
    "print(nx.shortest_path(G_from_Corr_bottleneck,source=0,target=8,weight='weight'))\n",
    "print(nx.betweenness_centrality(G_from_Corr_bottleneck,weight='weight'))\n",
    "bottleneck_corr_betweenness = nx.betweenness_centrality(G_from_Corr_bottleneck,weight='weight')"
   ]
  },
  {
   "cell_type": "code",
   "execution_count": null,
   "metadata": {},
   "outputs": [],
   "source": [
    "ACorr"
   ]
  },
  {
   "cell_type": "code",
   "execution_count": null,
   "metadata": {},
   "outputs": [],
   "source": [
    "k"
   ]
  },
  {
   "cell_type": "code",
   "execution_count": null,
   "metadata": {},
   "outputs": [],
   "source": [
    "bottleneck_k_betweenness[2]"
   ]
  },
  {
   "cell_type": "code",
   "execution_count": null,
   "metadata": {},
   "outputs": [],
   "source": [
    "plt.plot(*zip(*sorted(bottleneck_k_betweenness.items())),label=\"k\")\n",
    "plt.plot(*zip(*sorted(bottleneck_corr_betweenness.items())),label=\"corr\")\n",
    "plt.plot(*zip(*sorted(bottleneck_corr_l1_betweenness.items())),label=\"corr $\\lambda=1$\")\n",
    "#plt.plot(centralityCorr_l5,label=\"corr $\\lambda=5$\")\n",
    "#plt.plot(centralityCorr_l10,label=\"corr $\\lambda=10$\")\n",
    "#plt.plot(centralityCorr_l15,label=\"corr $\\lambda=15$\")\n",
    "#plt.plot(centralityCorr_l50,label=\"corr $\\lambda=50$\")\n",
    "plt.legend()"
   ]
  },
  {
   "cell_type": "code",
   "execution_count": null,
   "metadata": {},
   "outputs": [],
   "source": [
    "plt.plot(centralityK,label=\"k\")\n",
    "plt.plot(centralityCorr,label=\"corr $\\lambda\\Rightarrow\\infty$\")\n",
    "plt.plot(centralityCorr_l1,label=\"corr $\\lambda=1$\")\n",
    "#plt.plot(centralityCorr_l10,label=\"corr $\\lambda=10$\")\n",
    "#plt.plot(centralityCorr_l15,label=\"corr $\\lambda=15$\")\n",
    "#plt.plot(centralityCorr_l50,label=\"corr $\\lambda=50$\")\n",
    "plt.legend()"
   ]
  },
  {
   "cell_type": "code",
   "execution_count": null,
   "metadata": {},
   "outputs": [],
   "source": [
    "# create the hessian matrix for the 9 node nearest neighbor spring system\n",
    "kij = 303.1\n",
    "b = 2\n",
    "k_9  = create_NN_k_matrix(9,kij)\n",
    "k_9"
   ]
  },
  {
   "cell_type": "code",
   "execution_count": null,
   "metadata": {},
   "outputs": [],
   "source": []
  },
  {
   "cell_type": "code",
   "execution_count": null,
   "metadata": {},
   "outputs": [],
   "source": [
    "k2 = k_9 + np.ones((9,9))\n",
    "x2 = np.zeros(9)\n",
    "x2[0] = -kij * b\n",
    "x2[8] = -x2[0]\n",
    "print(np.dot(np.linalg.inv(k2),x2))\n"
   ]
  },
  {
   "cell_type": "code",
   "execution_count": null,
   "metadata": {},
   "outputs": [],
   "source": [
    "# diagonlize the hessian\n",
    "k_9_evals, k_9_evecs = np.linalg.eigh(k_9)\n",
    "idx = k_9_evals.argsort()\n",
    "k_9_evals = k_9_evals[idx]\n",
    "k_9_evecs = k_9_evecs[:,idx]\n",
    "#print k_9_evecs\n",
    "k_9_evals"
   ]
  },
  {
   "cell_type": "code",
   "execution_count": null,
   "metadata": {},
   "outputs": [],
   "source": [
    "# here I use the eq 13 from Chennubhotla et al to compute the covariance directly from eigenvectors \n",
    "covar_from_hessian = np.zeros((9,9),dtype=float)\n",
    "for i in range(9):\n",
    "    for j in range(9):\n",
    "        for k in range(1,9):\n",
    "            covar_from_hessian[i,j] += 1.0/k_9_evals[k] * k_9_evecs[i,k] * k_9_evecs[j,k]\n",
    "covar_from_hessian *= 0.8\n",
    "covar_from_hessian"
   ]
  },
  {
   "cell_type": "code",
   "execution_count": null,
   "metadata": {},
   "outputs": [],
   "source": [
    "# this translates to the following matrix equations\n",
    "gamma = np.diag(1.0/k_9_evals)\n",
    "gamma[0,0] = 0.\n",
    "covar_from_hessian = np.dot(k_9_evecs,np.dot(gamma,k_9_evecs.T))*0.8"
   ]
  },
  {
   "cell_type": "code",
   "execution_count": 8,
   "metadata": {},
   "outputs": [],
   "source": [
    "# read in Heidi's covariance matrix from simulation\n",
    "covar = np.loadtxt(\"covariance_nearest_neighbors.dat\")"
   ]
  },
  {
   "cell_type": "code",
   "execution_count": 9,
   "metadata": {},
   "outputs": [
    {
     "data": {
      "text/plain": [
       "array([[ 0.00668836,  0.00440812,  0.00236705,  0.00049752, -0.00093851,\n",
       "        -0.0019904 , -0.00308745, -0.00387568, -0.00406901],\n",
       "       [ 0.        ,  0.00459417,  0.00260601,  0.00074953, -0.00068842,\n",
       "        -0.00177747, -0.00268291, -0.0035176 , -0.00369142],\n",
       "       [ 0.        ,  0.        ,  0.00319458,  0.00131588, -0.00014785,\n",
       "        -0.00125902, -0.00218964, -0.00285816, -0.00302885],\n",
       "       [ 0.        ,  0.        ,  0.        ,  0.00218494,  0.0007313 ,\n",
       "        -0.00036917, -0.00122547, -0.00183341, -0.00205113],\n",
       "       [ 0.        ,  0.        ,  0.        ,  0.        ,  0.00196295,\n",
       "         0.00079227, -0.00010053, -0.00068035, -0.00093085],\n",
       "       [ 0.        ,  0.        ,  0.        ,  0.        ,  0.        ,\n",
       "         0.00212061,  0.00131675,  0.00077116,  0.00039527],\n",
       "       [ 0.        ,  0.        ,  0.        ,  0.        ,  0.        ,\n",
       "         0.        ,  0.00313119,  0.00267069,  0.00216736],\n",
       "       [ 0.        ,  0.        ,  0.        ,  0.        ,  0.        ,\n",
       "         0.        ,  0.        ,  0.00483426,  0.00448908],\n",
       "       [ 0.        ,  0.        ,  0.        ,  0.        ,  0.        ,\n",
       "         0.        ,  0.        ,  0.        ,  0.00671955]])"
      ]
     },
     "execution_count": 9,
     "metadata": {},
     "output_type": "execute_result"
    }
   ],
   "source": [
    "covar"
   ]
  },
  {
   "cell_type": "code",
   "execution_count": 10,
   "metadata": {},
   "outputs": [
    {
     "name": "stdout",
     "output_type": "stream",
     "text": [
      "[[ 0.00681189  0.00452911  0.00244236  0.00053086 -0.00091684 -0.00203058\n",
      "  -0.00316174 -0.00400121 -0.00420384]\n",
      " [ 0.00452911  0.00470496  0.00270411  0.00079652 -0.00068009 -0.00184616\n",
      "  -0.0027641  -0.0036324  -0.00381196]\n",
      " [ 0.00244236  0.00270411  0.00320864  0.00132241 -0.00014484 -0.00129211\n",
      "  -0.00224564 -0.00291952 -0.00307541]\n",
      " [ 0.00053086  0.00079652  0.00132241  0.00219356  0.00072314 -0.00039649\n",
      "  -0.00126565 -0.00186118 -0.00204317]\n",
      " [-0.00091684 -0.00068009 -0.00014484  0.00072314  0.00198099  0.00081446\n",
      "  -0.00011513 -0.00071351 -0.00094819]\n",
      " [-0.00203058 -0.00184616 -0.00129211 -0.00039649  0.00081446  0.00216203\n",
      "   0.00135895  0.00080648  0.00042342]\n",
      " [-0.00316174 -0.0027641  -0.00224564 -0.00126565 -0.00011513  0.00135895\n",
      "   0.00317343  0.00277004  0.00224984]\n",
      " [-0.00400121 -0.0036324  -0.00291952 -0.00186118 -0.00071351  0.00080648\n",
      "   0.00277004  0.00495601  0.0045953 ]\n",
      " [-0.00420384 -0.00381196 -0.00307541 -0.00204317 -0.00094819  0.00042342\n",
      "   0.00224984  0.0045953   0.006814  ]]\n"
     ]
    }
   ],
   "source": [
    "# let's try and recompute Heidi's covariance\n",
    "heidi_traj = np.loadtxt(\"positions.dat\")\n",
    "nSteps = heidi_traj.shape[0]\n",
    "nNodes = heidi_traj.shape[1]\n",
    "covar = np.zeros((nNodes,nNodes),dtype=np.float64)\n",
    "avg = np.zeros(nNodes,dtype=np.float64)\n",
    "for step in range(100,nSteps):\n",
    "    # substract center-of-geometry\n",
    "    heidi_traj[step,:] -= np.mean(heidi_traj[step,:])\n",
    "    # add to average\n",
    "    avg += heidi_traj[step,:]\n",
    "    # add to covar\n",
    "    covar += np.dot(heidi_traj[step,:].reshape(nNodes,1),heidi_traj[step,:].reshape(1,nNodes))\n",
    "# finish averages\n",
    "avg /= (nSteps-100)\n",
    "covar /= (nSteps-100)\n",
    "# finish covar\n",
    "covar -= np.dot(avg.reshape(nNodes,1),avg.reshape(1,nNodes))\n",
    "print(covar)"
   ]
  },
  {
   "cell_type": "code",
   "execution_count": null,
   "metadata": {},
   "outputs": [],
   "source": [
    "covar/covar_from_hessian"
   ]
  },
  {
   "cell_type": "code",
   "execution_count": null,
   "metadata": {},
   "outputs": [],
   "source": [
    "avg_positions = np.mean(heidi_traj[100:1000,:],axis=0)\n",
    "print(avg_positions)"
   ]
  },
  {
   "cell_type": "code",
   "execution_count": null,
   "metadata": {},
   "outputs": [],
   "source": [
    "400*np.mean(covar/covar_from_hessian)"
   ]
  },
  {
   "cell_type": "code",
   "execution_count": null,
   "metadata": {},
   "outputs": [],
   "source": [
    "def covar_to_correlation(covar):\n",
    "    M = covar.shape[0]\n",
    "    corr = np.empty((M,M),dtype=float)\n",
    "    for i in range(M):\n",
    "        for j in range(M):\n",
    "             corr[i,j] = covar[i,j]/(np.sqrt(covar[i,i]*covar[j,j]))\n",
    "    return corr"
   ]
  },
  {
   "cell_type": "code",
   "execution_count": null,
   "metadata": {},
   "outputs": [],
   "source": [
    "measured_corr = covar_to_correlation(covar)\n",
    "analytic_corr = covar_to_correlation(covar_from_hessian)"
   ]
  },
  {
   "cell_type": "code",
   "execution_count": null,
   "metadata": {},
   "outputs": [],
   "source": [
    "measured_corr"
   ]
  },
  {
   "cell_type": "code",
   "execution_count": null,
   "metadata": {},
   "outputs": [],
   "source": [
    "analytic_corr"
   ]
  },
  {
   "cell_type": "code",
   "execution_count": null,
   "metadata": {},
   "outputs": [],
   "source": [
    "np.savetxt(\"9node_nearestneighbor_analytic_corr.dat\",analytic_corr)"
   ]
  },
  {
   "cell_type": "code",
   "execution_count": null,
   "metadata": {},
   "outputs": [],
   "source": [
    "def compute_correlation_from_hessian(hess):\n",
    "    M = hess.shape[0]\n",
    "    hess_evals, hess_evecs = np.linalg.eig(hess)\n",
    "    # sort eigenvectors and eigenvalues in ascending order (of eigenvalues)\n",
    "    idx = hess_evals.argsort()\n",
    "    hess_evals = hess_evals[idx]\n",
    "    hess_evecs = hess_evecs[:,idx]\n",
    "    print(hess_evecs)\n",
    "    # this translates to the following matrix equations\n",
    "    gamma = np.diag(1.0/hess_evals)\n",
    "    gamma[0,0] = 0.\n",
    "    covar_from_hessian = np.dot(hess_evecs,np.dot(gamma,hess_evecs.T))*0.8\n",
    "    analytic_corr = covar_to_correlation(covar_from_hessian)\n",
    "    return analytic_corr, covar_from_hessian"
   ]
  },
  {
   "cell_type": "code",
   "execution_count": null,
   "metadata": {},
   "outputs": [],
   "source": [
    "k9_NN_plus_19 = np.copy(k_9)\n",
    "k9_NN_plus_19[0,8] = k9_NN_plus_19[8,0] = -kij\n",
    "k9_NN_plus_19[0,0] += kij\n",
    "k9_NN_plus_19[8,8] += kij\n",
    "print(k9_NN_plus_19)"
   ]
  },
  {
   "cell_type": "code",
   "execution_count": null,
   "metadata": {},
   "outputs": [],
   "source": [
    "k9_NN_plus_19_corr, k9_NN_plus_19_covar = compute_correlation_from_hessian(k9_NN_plus_19)"
   ]
  },
  {
   "cell_type": "code",
   "execution_count": null,
   "metadata": {},
   "outputs": [],
   "source": [
    "k9_NN_plus_19_covar"
   ]
  },
  {
   "cell_type": "code",
   "execution_count": null,
   "metadata": {},
   "outputs": [],
   "source": [
    "np.savetxt(\"9node_nearestneighbor_plus_1_9_analytic_corr.dat\",k9_NN_plus_19_corr)"
   ]
  },
  {
   "cell_type": "code",
   "execution_count": null,
   "metadata": {},
   "outputs": [],
   "source": [
    "# read in Heidi's covariance matrix from simulation\n",
    "covar_19 = np.loadtxt(\"covariance_9springs.dat\")\n",
    "corr_19 = covar_to_correlation(covar_19)\n",
    "corr_19"
   ]
  },
  {
   "cell_type": "code",
   "execution_count": null,
   "metadata": {},
   "outputs": [],
   "source": [
    "def linear_MI_rMI_from_covar(covar,d=1):\n",
    "    # size of the array for MI and rMI is the number of nodes\n",
    "    N = covar.shape[0]//d\n",
    "    # declare MI and rMI matrices\n",
    "    rMI = np.zeros((N,N),dtype=float)\n",
    "    MI = np.zeros((N,N),dtype=float)\n",
    "    # check dimensionality of system - 1D we need to avoid taking determinants\n",
    "    if (d==1):\n",
    "        # loop over unique pairs of nodes\n",
    "        for i in range(N-1):\n",
    "            for j in range(i+1,N):\n",
    "                # compute numerator in argument of log of linear MI equation\n",
    "                temp = covar[i,i]*covar[j,j]\n",
    "                # compute linear MI (eq 10 of Grubmuller 2005)\n",
    "                MI[i,j] = 0.5*np.log(temp/(temp-covar[i,j]**2))\n",
    "                # symmetrize MI\n",
    "                MI[j,i] = MI[i,j]\n",
    "                # compute rMI (eq 9 from Grubmuller 2005 with sqrt instead of inverse sqrt - typo in paper)\n",
    "                rMI[i,j] = np.sqrt(1.0-np.exp(-2.0*MI[i,j]/d))\n",
    "                # symmetrize rMI\n",
    "                rMI[j,i] = rMI[i,j]\n",
    "    else:\n",
    "        # loop over unique pairs of nodes\n",
    "        for i in range(N-1):\n",
    "            # i index assuming that each node has d values sequentially populating the covar matrix\n",
    "            iIndex = i*d\n",
    "            for j in range(i+1,N):\n",
    "                # j index assuming that each node has d values sequentially populating the covar matrix\n",
    "                jIndex = j*d\n",
    "                # compute numerator in argument of log of linear MI equation\n",
    "                temp = np.linalg.det(covar[iIndex:iIndex+d,iIndex:iIndex+d])*np.linalg.det(covar[jIndex:jIndex+d,jIndex:jIndex+d])\n",
    "                # make list of indeces for the 2d X 2d C_ij matrix\n",
    "                idx = np.append(np.arange(iIndex,iIndex+d,1),np.arange(jIndex,jIndex+d,1))\n",
    "                # compute linear MI (eq 10 of Grubmuller 2005)\n",
    "                MI[i,j] = 0.5*np.log(temp/np.linalg.det(covar[np.ix_(idx,idx)]))\n",
    "                # symmetrize\n",
    "                MI[j,i] = MI[i,j]\n",
    "                # compute rMI (eq 9 from Grubmuller 2005 with sqrt instead of inverse sqrt - typo in paper)\n",
    "                rMI[i,j] = np.sqrt(1.0-np.exp(-2.0*MI[i,j]/d))\n",
    "                # symmetrize\n",
    "                rMI[j,i] = rMI[i,j]\n",
    "    \n",
    "    # populate diagonal elements of MI and rMI\n",
    "    MI += np.diag(np.full(N,np.inf))\n",
    "    rMI += np.diag(np.ones(N))\n",
    "    # return MI and rMI\n",
    "    return MI,rMI    \n",
    "\n",
    "def linear_MI_from_covar(covar):\n",
    "    M = covar.shape[0]\n",
    "    MI = np.empty((M,M))\n",
    "    for i in range(M):\n",
    "        for j in range(M):\n",
    "            temp = covar[i,i]*covar[j,j]\n",
    "            MI[i,j] = 0.5*np.log(temp/(temp-covar[i,j]**2))\n",
    "    return MI"
   ]
  },
  {
   "cell_type": "code",
   "execution_count": null,
   "metadata": {},
   "outputs": [],
   "source": [
    "k9_NN_plus_19_MI,k9_NN_plus_19_rMI  = linear_rMI_from_covar(k9_NN_plus_19_covar,d=3)\n",
    "k9_NN_plus_19_rMI\n",
    "k9_NN_plus_19_MI"
   ]
  },
  {
   "cell_type": "code",
   "execution_count": null,
   "metadata": {},
   "outputs": [],
   "source": [
    "idx = np.arange(0,3,1)\n",
    "idx = np.append(idx,np.arange(6,9,1))\n",
    "print idx"
   ]
  },
  {
   "cell_type": "code",
   "execution_count": null,
   "metadata": {},
   "outputs": [],
   "source": [
    "k9_NN_plus_19_covar[np.ix_(idx,idx)].shape"
   ]
  },
  {
   "cell_type": "code",
   "execution_count": null,
   "metadata": {},
   "outputs": [],
   "source": [
    "k9_NN_plus_19_covar[0:3,0:3]"
   ]
  },
  {
   "cell_type": "code",
   "execution_count": null,
   "metadata": {},
   "outputs": [],
   "source": [
    "N=9\n",
    "np.diag(np.ones(N))"
   ]
  },
  {
   "cell_type": "code",
   "execution_count": null,
   "metadata": {},
   "outputs": [],
   "source": [
    "np.linalg.inv(covar_from_hessian)"
   ]
  },
  {
   "cell_type": "code",
   "execution_count": null,
   "metadata": {},
   "outputs": [],
   "source": [
    "alpha, a = np.linalg.eig(covar_from_hessian/0.8)\n",
    "idx = alpha.argsort()\n",
    "alpha = alpha[idx]\n",
    "a = a[:,idx]\n",
    "print alpha"
   ]
  },
  {
   "cell_type": "code",
   "execution_count": null,
   "metadata": {},
   "outputs": [],
   "source": [
    "kappa = np.diag(1.0/alpha)\n",
    "kappa[0,0] = 0.\n",
    "krev = np.dot(a,np.dot(kappa,a.T))"
   ]
  },
  {
   "cell_type": "code",
   "execution_count": null,
   "metadata": {},
   "outputs": [],
   "source": [
    "print krev"
   ]
  },
  {
   "cell_type": "code",
   "execution_count": null,
   "metadata": {},
   "outputs": [],
   "source": [
    "def k_from_covar(covar):\n",
    "    alpha, a = np.linalg.eig(covar_from_hessian/0.8)\n",
    "    idx = alpha.argsort()\n",
    "    alpha = alpha[idx]\n",
    "    a = a[:,idx]\n",
    "    kappa = np.diag(1.0/alpha)\n",
    "    kappa[0,0] = 0.\n",
    "    krev = np.dot(a,np.dot(kappa,a.T))\n",
    "    return krev"
   ]
  }
 ],
 "metadata": {
  "kernelspec": {
   "display_name": "Python 3",
   "language": "python",
   "name": "python3"
  },
  "language_info": {
   "codemirror_mode": {
    "name": "ipython",
    "version": 3
   },
   "file_extension": ".py",
   "mimetype": "text/x-python",
   "name": "python",
   "nbconvert_exporter": "python",
   "pygments_lexer": "ipython3",
   "version": "3.6.5"
  }
 },
 "nbformat": 4,
 "nbformat_minor": 2
}
